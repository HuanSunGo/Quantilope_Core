{
 "cells": [
  {
   "cell_type": "markdown",
   "metadata": {},
   "source": [
    "# Fetching tweets from Twitter API using Twarc and Tweepy\n",
    "\n",
    "Twitter API V2 Official Documentation: Get to know more about parameters <br>\n",
    "[Link](https://github.com/twitterdev/getting-started-with-the-twitter-api-v2-for-academic-research/blob/main/modules/5-how-to-write-search-queries.md)"
   ]
  },
  {
   "cell_type": "code",
   "execution_count": 1,
   "metadata": {},
   "outputs": [],
   "source": [
    "# import libraries \n",
    "import matplotlib.pyplot as plt \n",
    "from twarc import Twarc2,expansions \n",
    "import tweepy \n",
    "import configparser\n",
    "import time\n",
    "import pandas as pd"
   ]
  },
  {
   "cell_type": "markdown",
   "metadata": {},
   "source": [
    "## Authentication "
   ]
  },
  {
   "cell_type": "markdown",
   "metadata": {},
   "source": [
    "### 1. Read Configs \n",
    "\n",
    "By using `configparser` library, the authorization files can be stored seperatly without hurting the availibility of sharing working files. "
   ]
  },
  {
   "cell_type": "code",
   "execution_count": 2,
   "metadata": {},
   "outputs": [],
   "source": [
    "config = configparser.ConfigParser(interpolation=None)\n",
    "config. read('config.ini')\n",
    "\n",
    "api_key = config['twitter']['api_key']\n",
    "api_key_secret = config['twitter']['api_key_secret']\n",
    "access_token = config['twitter']['access_token']\n",
    "access_token_secret = config['twitter']['access_token_secret']\n",
    "bearer_token = config['twitter']['bearer_token']"
   ]
  },
  {
   "cell_type": "markdown",
   "metadata": {},
   "source": [
    "### 2. Authenticate \n",
    "Authenticate the account/app to the Twitter API. "
   ]
  },
  {
   "cell_type": "code",
   "execution_count": 3,
   "metadata": {},
   "outputs": [],
   "source": [
    "from multiprocessing.connection import wait\n",
    "\n",
    "\n",
    "auth = tweepy.OAuthHandler(api_key, api_key_secret)\n",
    "auth.set_access_token(access_token, access_token_secret)\n",
    "\n",
    "# create the API instance\n",
    "twarc2_client = tweepy.API(auth)\n",
    "\n",
    "# or use Tweepy \n",
    "client = tweepy.Client(bearer_token = bearer_token, wait_on_rate_limit= True)"
   ]
  },
  {
   "cell_type": "markdown",
   "metadata": {},
   "source": [
    "## Fetching Data"
   ]
  },
  {
   "cell_type": "markdown",
   "metadata": {},
   "source": [
    "### 1. user search"
   ]
  },
  {
   "cell_type": "code",
   "execution_count": 5,
   "metadata": {},
   "outputs": [
    {
     "data": {
      "text/html": [
       "<div>\n",
       "<style scoped>\n",
       "    .dataframe tbody tr th:only-of-type {\n",
       "        vertical-align: middle;\n",
       "    }\n",
       "\n",
       "    .dataframe tbody tr th {\n",
       "        vertical-align: top;\n",
       "    }\n",
       "\n",
       "    .dataframe thead th {\n",
       "        text-align: right;\n",
       "    }\n",
       "</style>\n",
       "<table border=\"1\" class=\"dataframe\">\n",
       "  <thead>\n",
       "    <tr style=\"text-align: right;\">\n",
       "      <th></th>\n",
       "      <th>user_id</th>\n",
       "      <th>user_location</th>\n",
       "      <th>user_name</th>\n",
       "      <th>text</th>\n",
       "    </tr>\n",
       "  </thead>\n",
       "  <tbody>\n",
       "    <tr>\n",
       "      <th>0</th>\n",
       "      <td>415859364</td>\n",
       "      <td>Beaverton, Oregon</td>\n",
       "      <td>Nike</td>\n",
       "      <td>@__agrdn Salut, nous sommes navrés de voir que...</td>\n",
       "    </tr>\n",
       "    <tr>\n",
       "      <th>1</th>\n",
       "      <td>415859364</td>\n",
       "      <td>Beaverton, Oregon</td>\n",
       "      <td>Nike</td>\n",
       "      <td>@kam_htl Hey, @kam_htl nous sommes navrés de v...</td>\n",
       "    </tr>\n",
       "    <tr>\n",
       "      <th>2</th>\n",
       "      <td>415859364</td>\n",
       "      <td>Beaverton, Oregon</td>\n",
       "      <td>Nike</td>\n",
       "      <td>@sarahmaispasla Eh bien, tu as été chanceuse ! 😀</td>\n",
       "    </tr>\n",
       "    <tr>\n",
       "      <th>3</th>\n",
       "      <td>415859364</td>\n",
       "      <td>Beaverton, Oregon</td>\n",
       "      <td>Nike</td>\n",
       "      <td>@MeganTo09520759 Hey Megan, sorry to hear. For...</td>\n",
       "    </tr>\n",
       "    <tr>\n",
       "      <th>4</th>\n",
       "      <td>415859364</td>\n",
       "      <td>Beaverton, Oregon</td>\n",
       "      <td>Nike</td>\n",
       "      <td>@sarahmaispasla Hello,\\nL'offre anniversaire e...</td>\n",
       "    </tr>\n",
       "  </tbody>\n",
       "</table>\n",
       "</div>"
      ],
      "text/plain": [
       "     user_id      user_location user_name  \\\n",
       "0  415859364  Beaverton, Oregon      Nike   \n",
       "1  415859364  Beaverton, Oregon      Nike   \n",
       "2  415859364  Beaverton, Oregon      Nike   \n",
       "3  415859364  Beaverton, Oregon      Nike   \n",
       "4  415859364  Beaverton, Oregon      Nike   \n",
       "\n",
       "                                                text  \n",
       "0  @__agrdn Salut, nous sommes navrés de voir que...  \n",
       "1  @kam_htl Hey, @kam_htl nous sommes navrés de v...  \n",
       "2   @sarahmaispasla Eh bien, tu as été chanceuse ! 😀  \n",
       "3  @MeganTo09520759 Hey Megan, sorry to hear. For...  \n",
       "4  @sarahmaispasla Hello,\\nL'offre anniversaire e...  "
      ]
     },
     "execution_count": 5,
     "metadata": {},
     "output_type": "execute_result"
    }
   ],
   "source": [
    "user = 'Nike'\n",
    "\n",
    "# fetch the last 100 tweets \n",
    "limit = 300 \n",
    "\n",
    "# prevent to reach the cap \n",
    "tweets = tweepy.Cursor(twarc2_client.user_timeline, \n",
    "              screen_name = user, \n",
    "              count = 200,\n",
    "              tweet_mode = 'extended').items(limit)\n",
    "\n",
    "# tweets = api.user_timeline(\n",
    "#                             screen_name = user, \n",
    "#                             cont = limit,\n",
    "#                             tweet_mode = 'extended', # prevent the API to truncate only 140 characters\n",
    "#                             ) \n",
    "\n",
    "# create DataFrame\n",
    "columns = ['user_id','user_location','user_name','text']\n",
    "data = []\n",
    "\n",
    "for tweet in tweets: \n",
    "    # the tab provides multiple parameter selection \n",
    "    data.append([tweet.user.id, \n",
    "                tweet.user.location, \n",
    "                tweet.user.screen_name, \n",
    "                tweet.full_text])\n",
    "\n",
    "df1 = pd.DataFrame(data, columns = columns)\n",
    "df1.head()"
   ]
  },
  {
   "cell_type": "markdown",
   "metadata": {},
   "source": [
    "### 2. keywords or hashtags search "
   ]
  },
  {
   "cell_type": "code",
   "execution_count": 6,
   "metadata": {},
   "outputs": [
    {
     "data": {
      "text/html": [
       "<div>\n",
       "<style scoped>\n",
       "    .dataframe tbody tr th:only-of-type {\n",
       "        vertical-align: middle;\n",
       "    }\n",
       "\n",
       "    .dataframe tbody tr th {\n",
       "        vertical-align: top;\n",
       "    }\n",
       "\n",
       "    .dataframe thead th {\n",
       "        text-align: right;\n",
       "    }\n",
       "</style>\n",
       "<table border=\"1\" class=\"dataframe\">\n",
       "  <thead>\n",
       "    <tr style=\"text-align: right;\">\n",
       "      <th></th>\n",
       "      <th>author_id</th>\n",
       "      <th>author_name</th>\n",
       "      <th>created_time</th>\n",
       "      <th>location</th>\n",
       "      <th>text</th>\n",
       "    </tr>\n",
       "  </thead>\n",
       "  <tbody>\n",
       "    <tr>\n",
       "      <th>0</th>\n",
       "      <td>1057967416699957248</td>\n",
       "      <td>Chad Jones aka Sneaker Galactus</td>\n",
       "      <td>2022-10-06 13:49:14+00:00</td>\n",
       "      <td>United States</td>\n",
       "      <td>I would love to do my own sneaker \"show\" to sh...</td>\n",
       "    </tr>\n",
       "    <tr>\n",
       "      <th>1</th>\n",
       "      <td>251341001</td>\n",
       "      <td>Graham Cracker.</td>\n",
       "      <td>2022-10-06 13:49:11+00:00</td>\n",
       "      <td></td>\n",
       "      <td>I put sneakers on a toddler once and I’ve neve...</td>\n",
       "    </tr>\n",
       "    <tr>\n",
       "      <th>2</th>\n",
       "      <td>539929374</td>\n",
       "      <td>jinlia</td>\n",
       "      <td>2022-10-06 13:48:59+00:00</td>\n",
       "      <td></td>\n",
       "      <td>RT @midcys: itzy: put my sneakers on\\n\\nthe cr...</td>\n",
       "    </tr>\n",
       "    <tr>\n",
       "      <th>3</th>\n",
       "      <td>1094938177369001984</td>\n",
       "      <td>Benefits Everyone</td>\n",
       "      <td>2022-10-06 13:48:56+00:00</td>\n",
       "      <td>Newcastle Upon Tyne, England</td>\n",
       "      <td>Fabulous footwear since 1975 - Exclusive Moda ...</td>\n",
       "    </tr>\n",
       "    <tr>\n",
       "      <th>4</th>\n",
       "      <td>1250741036390903808</td>\n",
       "      <td>ؘ</td>\n",
       "      <td>2022-10-06 13:48:55+00:00</td>\n",
       "      <td>s%her</td>\n",
       "      <td>RT @ITZYofficial: 💾 ITZY &amp;lt;CHECKMATE&amp;gt; 하드털...</td>\n",
       "    </tr>\n",
       "  </tbody>\n",
       "</table>\n",
       "</div>"
      ],
      "text/plain": [
       "             author_id                      author_name  \\\n",
       "0  1057967416699957248  Chad Jones aka Sneaker Galactus   \n",
       "1            251341001                  Graham Cracker.   \n",
       "2            539929374                           jinlia   \n",
       "3  1094938177369001984                Benefits Everyone   \n",
       "4  1250741036390903808                                ؘ   \n",
       "\n",
       "               created_time                      location  \\\n",
       "0 2022-10-06 13:49:14+00:00                 United States   \n",
       "1 2022-10-06 13:49:11+00:00                                 \n",
       "2 2022-10-06 13:48:59+00:00                                 \n",
       "3 2022-10-06 13:48:56+00:00  Newcastle Upon Tyne, England   \n",
       "4 2022-10-06 13:48:55+00:00                         s%her   \n",
       "\n",
       "                                                text  \n",
       "0  I would love to do my own sneaker \"show\" to sh...  \n",
       "1  I put sneakers on a toddler once and I’ve neve...  \n",
       "2  RT @midcys: itzy: put my sneakers on\\n\\nthe cr...  \n",
       "3  Fabulous footwear since 1975 - Exclusive Moda ...  \n",
       "4  RT @ITZYofficial: 💾 ITZY &lt;CHECKMATE&gt; 하드털...  "
      ]
     },
     "execution_count": 6,
     "metadata": {},
     "output_type": "execute_result"
    }
   ],
   "source": [
    "keywords = 'sneakers'\n",
    "limit = 500 # why must add limit? \n",
    "\n",
    "tweets_keyword_search = tweepy.Cursor(\n",
    "              twarc2_client.search_tweets, \n",
    "              q= keywords, \n",
    "              count = 100,\n",
    "              tweet_mode = 'extended').items(limit)\n",
    "\n",
    "# create DataFrame\n",
    "columns = ['author_id','author_name','created_time','location','text']\n",
    "data = []\n",
    "\n",
    "for tweet in tweets_keyword_search: \n",
    "    data.append([tweet.author.id, \n",
    "                 tweet.author.name,\n",
    "                 # time can be more granualler depending on the need \n",
    "                 tweet.created_at,\n",
    "                 tweet.user.location, \n",
    "                 tweet.full_text])\n",
    "\n",
    "df2 = pd.DataFrame(data, columns = columns)\n",
    "df2.head()"
   ]
  },
  {
   "cell_type": "markdown",
   "metadata": {},
   "source": [
    "### 3. Full-Archive Search\n",
    "Get more than 500 Tweets at a time using `paginator`, which will automately go for the next page.\n",
    "\n",
    "[Reference](https://www.youtube.com/watch?v=rQEsIs9LERM)"
   ]
  },
  {
   "cell_type": "code",
   "execution_count": 8,
   "metadata": {},
   "outputs": [],
   "source": [
    "# set query, parameters changable \n",
    "input_query = 'sneakers -is:retweet lang:en place_country:US'\n",
    "\n",
    "def full_archive_search(input_query): \n",
    "    \"\"\"\n",
    "    Function for API query with input parameters\n",
    "    ----------------------\n",
    "    Input: query \n",
    "    Output: API request result\n",
    "\n",
    "    \"\"\"\n",
    "    result = []\n",
    "\n",
    "    for response in tweepy.Paginator(client.search_all_tweets, \n",
    "                                    # doesn't include the retweet\n",
    "                                    query = input_query,\n",
    "                                    user_fields = ['username', 'public_metrics', 'description', 'location'],\n",
    "                                    tweet_fields = ['created_at', 'geo', 'public_metrics', 'text'],\n",
    "                                    expansions = 'author_id',\n",
    "                                    start_time = '2022-08-01T00:00:00Z',\n",
    "                                    end_time = '2022-09-30T23:59:59Z',\n",
    "                                    max_results=500, limit = 20):\n",
    "    # the `search_all_tweets` has per second limit, therefore should wait for a second before the code progresses                              \n",
    "        time.sleep(1)\n",
    "        result.append(response)\n",
    "\n",
    "    return result\n",
    "\n",
    "tweepy_query = full_archive_search(input_query)"
   ]
  },
  {
   "cell_type": "code",
   "execution_count": 9,
   "metadata": {},
   "outputs": [],
   "source": [
    "def full_archive_search_df(tweepy_query):\n",
    "\n",
    "    \"\"\"\n",
    "    Function for reformat the function the query into dataframe.\n",
    "    --------------------\n",
    "    Input: the tweepy query result \n",
    "    Output: pandas dataframe format of query result\n",
    "\n",
    "    \"\"\"\n",
    "    result = []\n",
    "    user_dict = {}\n",
    "\n",
    "    # loop through each response object\n",
    "    for response in tweepy_query:\n",
    "        \n",
    "        # take all of the users, and put them into a dictionary of dictionaries with the info we want to keep\n",
    "        for user in response.includes['users']:\n",
    "            user_dict[user.id] = {'username': user.username, \n",
    "                                'followers': user.public_metrics['followers_count'],\n",
    "                                'tweets': user.public_metrics['tweet_count'],\n",
    "                                'description': user.description,\n",
    "                                'location': user.location\n",
    "                                }\n",
    "\n",
    "        # for each tweet, find the author information                        \n",
    "        for tweet in response.data:\n",
    "            author_info = user_dict[tweet.author_id]\n",
    "\n",
    "            # put all of the information we want to keep in a single dictionary for each tweet \n",
    "            result.append({'author_id': tweet.author_id, \n",
    "                        'username': author_info['username'],\n",
    "                        'author_followers': author_info['followers'],\n",
    "                        'author_tweets': author_info['tweets'],\n",
    "                        'author_description': author_info['description'],\n",
    "                        'author_location': author_info['location'],\n",
    "                        'text': tweet.text,\n",
    "                        'created_at': tweet.created_at,\n",
    "                        'retweets': tweet.public_metrics['retweet_count'],\n",
    "                        'replies': tweet.public_metrics['reply_count'],\n",
    "                        'likes': tweet.public_metrics['like_count'],\n",
    "                        'quote_count': tweet.public_metrics['quote_count']\n",
    "                        })\n",
    "\n",
    "    tweepy_query_df = pd.DataFrame(result)\n",
    "    return tweepy_query_df\n",
    "\n",
    "sneakers_df = full_archive_search_df(tweepy_query)"
   ]
  },
  {
   "cell_type": "code",
   "execution_count": 10,
   "metadata": {},
   "outputs": [
    {
     "data": {
      "text/plain": [
       "(2776, 12)"
      ]
     },
     "execution_count": 10,
     "metadata": {},
     "output_type": "execute_result"
    }
   ],
   "source": [
    "sneakers_df.shape"
   ]
  },
  {
   "cell_type": "code",
   "execution_count": 11,
   "metadata": {},
   "outputs": [
    {
     "data": {
      "text/html": [
       "<div>\n",
       "<style scoped>\n",
       "    .dataframe tbody tr th:only-of-type {\n",
       "        vertical-align: middle;\n",
       "    }\n",
       "\n",
       "    .dataframe tbody tr th {\n",
       "        vertical-align: top;\n",
       "    }\n",
       "\n",
       "    .dataframe thead th {\n",
       "        text-align: right;\n",
       "    }\n",
       "</style>\n",
       "<table border=\"1\" class=\"dataframe\">\n",
       "  <thead>\n",
       "    <tr style=\"text-align: right;\">\n",
       "      <th></th>\n",
       "      <th>author_id</th>\n",
       "      <th>username</th>\n",
       "      <th>author_followers</th>\n",
       "      <th>author_tweets</th>\n",
       "      <th>author_description</th>\n",
       "      <th>author_location</th>\n",
       "      <th>text</th>\n",
       "      <th>created_at</th>\n",
       "      <th>retweets</th>\n",
       "      <th>replies</th>\n",
       "      <th>likes</th>\n",
       "      <th>quote_count</th>\n",
       "    </tr>\n",
       "  </thead>\n",
       "  <tbody>\n",
       "    <tr>\n",
       "      <th>0</th>\n",
       "      <td>1493612427304488965</td>\n",
       "      <td>1KHABYS</td>\n",
       "      <td>128</td>\n",
       "      <td>2168</td>\n",
       "      <td>Be ¥a $elf or Bring ¥a $hooters! 👀🎮 BYS LLC™️ ...</td>\n",
       "      <td>Around da corner⭐️</td>\n",
       "      <td>Privileged never paid over box price for sneakers</td>\n",
       "      <td>2022-09-30 23:28:41+00:00</td>\n",
       "      <td>0</td>\n",
       "      <td>0</td>\n",
       "      <td>0</td>\n",
       "      <td>0</td>\n",
       "    </tr>\n",
       "    <tr>\n",
       "      <th>1</th>\n",
       "      <td>29560488</td>\n",
       "      <td>CarrieMae_</td>\n",
       "      <td>344</td>\n",
       "      <td>12286</td>\n",
       "      <td>the devil works hard, kris jenner works harder</td>\n",
       "      <td>Brooklyn, NY</td>\n",
       "      <td>Trying to have a peaceful evening and at the r...</td>\n",
       "      <td>2022-09-30 23:21:03+00:00</td>\n",
       "      <td>0</td>\n",
       "      <td>0</td>\n",
       "      <td>0</td>\n",
       "      <td>0</td>\n",
       "    </tr>\n",
       "    <tr>\n",
       "      <th>2</th>\n",
       "      <td>22680919</td>\n",
       "      <td>MattHalfhill</td>\n",
       "      <td>13053</td>\n",
       "      <td>535</td>\n",
       "      <td>Founder + CEO of @nicekicks. DMs are open. sz 11</td>\n",
       "      <td>Austin, TX</td>\n",
       "      <td>Drop sneakers at a job fair if you don’t want ...</td>\n",
       "      <td>2022-09-30 23:13:22+00:00</td>\n",
       "      <td>112</td>\n",
       "      <td>46</td>\n",
       "      <td>1196</td>\n",
       "      <td>32</td>\n",
       "    </tr>\n",
       "    <tr>\n",
       "      <th>3</th>\n",
       "      <td>997270922976481282</td>\n",
       "      <td>JEFF_SON_334</td>\n",
       "      <td>609</td>\n",
       "      <td>3810</td>\n",
       "      <td>Husband, Father to a son ,COOL MF in General U...</td>\n",
       "      <td>Montgomery, AL</td>\n",
       "      <td>I hate the fact that Puma ain’t got no sneaker...</td>\n",
       "      <td>2022-09-30 22:36:38+00:00</td>\n",
       "      <td>0</td>\n",
       "      <td>0</td>\n",
       "      <td>0</td>\n",
       "      <td>0</td>\n",
       "    </tr>\n",
       "    <tr>\n",
       "      <th>4</th>\n",
       "      <td>101915799</td>\n",
       "      <td>kwamemorgan</td>\n",
       "      <td>847</td>\n",
       "      <td>25444</td>\n",
       "      <td>Follow my IG : @Kwamemorgan</td>\n",
       "      <td>ÜT: 38.899236,-76.797741</td>\n",
       "      <td>@1_Bundles You know my lil buddies gone geek t...</td>\n",
       "      <td>2022-09-30 22:33:35+00:00</td>\n",
       "      <td>0</td>\n",
       "      <td>1</td>\n",
       "      <td>0</td>\n",
       "      <td>0</td>\n",
       "    </tr>\n",
       "  </tbody>\n",
       "</table>\n",
       "</div>"
      ],
      "text/plain": [
       "             author_id      username  author_followers  author_tweets  \\\n",
       "0  1493612427304488965       1KHABYS               128           2168   \n",
       "1             29560488    CarrieMae_               344          12286   \n",
       "2             22680919  MattHalfhill             13053            535   \n",
       "3   997270922976481282  JEFF_SON_334               609           3810   \n",
       "4            101915799   kwamemorgan               847          25444   \n",
       "\n",
       "                                  author_description  \\\n",
       "0  Be ¥a $elf or Bring ¥a $hooters! 👀🎮 BYS LLC™️ ...   \n",
       "1     the devil works hard, kris jenner works harder   \n",
       "2   Founder + CEO of @nicekicks. DMs are open. sz 11   \n",
       "3  Husband, Father to a son ,COOL MF in General U...   \n",
       "4                        Follow my IG : @Kwamemorgan   \n",
       "\n",
       "            author_location  \\\n",
       "0        Around da corner⭐️   \n",
       "1              Brooklyn, NY   \n",
       "2                Austin, TX   \n",
       "3            Montgomery, AL   \n",
       "4  ÜT: 38.899236,-76.797741   \n",
       "\n",
       "                                                text  \\\n",
       "0  Privileged never paid over box price for sneakers   \n",
       "1  Trying to have a peaceful evening and at the r...   \n",
       "2  Drop sneakers at a job fair if you don’t want ...   \n",
       "3  I hate the fact that Puma ain’t got no sneaker...   \n",
       "4  @1_Bundles You know my lil buddies gone geek t...   \n",
       "\n",
       "                 created_at  retweets  replies  likes  quote_count  \n",
       "0 2022-09-30 23:28:41+00:00         0        0      0            0  \n",
       "1 2022-09-30 23:21:03+00:00         0        0      0            0  \n",
       "2 2022-09-30 23:13:22+00:00       112       46   1196           32  \n",
       "3 2022-09-30 22:36:38+00:00         0        0      0            0  \n",
       "4 2022-09-30 22:33:35+00:00         0        1      0            0  "
      ]
     },
     "execution_count": 11,
     "metadata": {},
     "output_type": "execute_result"
    }
   ],
   "source": [
    "sneakers_df.head()"
   ]
  },
  {
   "cell_type": "markdown",
   "metadata": {},
   "source": [
    "### 4. Full-Archive Search for brands "
   ]
  },
  {
   "cell_type": "markdown",
   "metadata": {},
   "source": [
    "#### 4.1 Nike"
   ]
  },
  {
   "cell_type": "code",
   "execution_count": 12,
   "metadata": {},
   "outputs": [],
   "source": [
    "# Nike \n",
    "input_query = 'nike -is:retweet lang:en place_country:US'\n",
    "nike_query = full_archive_search(input_query)\n",
    "nike_df = full_archive_search_df(nike_query)"
   ]
  },
  {
   "cell_type": "code",
   "execution_count": 13,
   "metadata": {},
   "outputs": [
    {
     "name": "stdout",
     "output_type": "stream",
     "text": [
      "(7883, 12)\n"
     ]
    },
    {
     "data": {
      "text/html": [
       "<div>\n",
       "<style scoped>\n",
       "    .dataframe tbody tr th:only-of-type {\n",
       "        vertical-align: middle;\n",
       "    }\n",
       "\n",
       "    .dataframe tbody tr th {\n",
       "        vertical-align: top;\n",
       "    }\n",
       "\n",
       "    .dataframe thead th {\n",
       "        text-align: right;\n",
       "    }\n",
       "</style>\n",
       "<table border=\"1\" class=\"dataframe\">\n",
       "  <thead>\n",
       "    <tr style=\"text-align: right;\">\n",
       "      <th></th>\n",
       "      <th>author_id</th>\n",
       "      <th>username</th>\n",
       "      <th>author_followers</th>\n",
       "      <th>author_tweets</th>\n",
       "      <th>author_description</th>\n",
       "      <th>author_location</th>\n",
       "      <th>text</th>\n",
       "      <th>created_at</th>\n",
       "      <th>retweets</th>\n",
       "      <th>replies</th>\n",
       "      <th>likes</th>\n",
       "      <th>quote_count</th>\n",
       "    </tr>\n",
       "  </thead>\n",
       "  <tbody>\n",
       "    <tr>\n",
       "      <th>0</th>\n",
       "      <td>87144412</td>\n",
       "      <td>GarrettKGray</td>\n",
       "      <td>373</td>\n",
       "      <td>12055</td>\n",
       "      <td>Land Economist &amp; Economic Development Speciali...</td>\n",
       "      <td>Coos Bay, OR</td>\n",
       "      <td>@ShaneDaleAZ Totally. The Nike uniforms since ...</td>\n",
       "      <td>2022-09-30 23:46:59+00:00</td>\n",
       "      <td>0</td>\n",
       "      <td>0</td>\n",
       "      <td>0</td>\n",
       "      <td>0</td>\n",
       "    </tr>\n",
       "    <tr>\n",
       "      <th>1</th>\n",
       "      <td>492330913</td>\n",
       "      <td>LockDown_Lopes</td>\n",
       "      <td>467</td>\n",
       "      <td>97661</td>\n",
       "      <td>@nicekicks, sports, &amp; memes | University of Ar...</td>\n",
       "      <td>Scottsdale, AZ</td>\n",
       "      <td>Hats off to Tom Sachs and the marketing team a...</td>\n",
       "      <td>2022-09-30 23:43:45+00:00</td>\n",
       "      <td>0</td>\n",
       "      <td>0</td>\n",
       "      <td>0</td>\n",
       "      <td>0</td>\n",
       "    </tr>\n",
       "    <tr>\n",
       "      <th>2</th>\n",
       "      <td>37706001</td>\n",
       "      <td>RyanGensler</td>\n",
       "      <td>6686</td>\n",
       "      <td>13613</td>\n",
       "      <td>315 Born and Raised: Assistant Basketball Coac...</td>\n",
       "      <td>Champaign, IL</td>\n",
       "      <td>The look on @makiracook face! 😂 \\n\\nThanks @Ni...</td>\n",
       "      <td>2022-09-30 23:38:15+00:00</td>\n",
       "      <td>1</td>\n",
       "      <td>1</td>\n",
       "      <td>27</td>\n",
       "      <td>0</td>\n",
       "    </tr>\n",
       "    <tr>\n",
       "      <th>3</th>\n",
       "      <td>17417435</td>\n",
       "      <td>ShellzBoss</td>\n",
       "      <td>564</td>\n",
       "      <td>22077</td>\n",
       "      <td>#TeamLibra #TeamLesbian Hibernating, should be...</td>\n",
       "      <td>Maryland, Michigan</td>\n",
       "      <td>Check out my new pickup from Nike⁠ SNKRS: http...</td>\n",
       "      <td>2022-09-30 23:35:28+00:00</td>\n",
       "      <td>0</td>\n",
       "      <td>1</td>\n",
       "      <td>0</td>\n",
       "      <td>0</td>\n",
       "    </tr>\n",
       "    <tr>\n",
       "      <th>4</th>\n",
       "      <td>853714067692806144</td>\n",
       "      <td>DJKingJam</td>\n",
       "      <td>349</td>\n",
       "      <td>3474</td>\n",
       "      <td>Jordan Shoe collector || DJ Jamez || Music Pro...</td>\n",
       "      <td>Seattle, WA</td>\n",
       "      <td>@jameslfreelance @Jumpman23 @Nike @nikestore O...</td>\n",
       "      <td>2022-09-30 23:15:57+00:00</td>\n",
       "      <td>0</td>\n",
       "      <td>0</td>\n",
       "      <td>2</td>\n",
       "      <td>0</td>\n",
       "    </tr>\n",
       "  </tbody>\n",
       "</table>\n",
       "</div>"
      ],
      "text/plain": [
       "            author_id        username  author_followers  author_tweets  \\\n",
       "0            87144412    GarrettKGray               373          12055   \n",
       "1           492330913  LockDown_Lopes               467          97661   \n",
       "2            37706001     RyanGensler              6686          13613   \n",
       "3            17417435      ShellzBoss               564          22077   \n",
       "4  853714067692806144       DJKingJam               349           3474   \n",
       "\n",
       "                                  author_description      author_location  \\\n",
       "0  Land Economist & Economic Development Speciali...         Coos Bay, OR   \n",
       "1  @nicekicks, sports, & memes | University of Ar...       Scottsdale, AZ   \n",
       "2  315 Born and Raised: Assistant Basketball Coac...        Champaign, IL   \n",
       "3  #TeamLibra #TeamLesbian Hibernating, should be...  Maryland, Michigan    \n",
       "4  Jordan Shoe collector || DJ Jamez || Music Pro...          Seattle, WA   \n",
       "\n",
       "                                                text  \\\n",
       "0  @ShaneDaleAZ Totally. The Nike uniforms since ...   \n",
       "1  Hats off to Tom Sachs and the marketing team a...   \n",
       "2  The look on @makiracook face! 😂 \\n\\nThanks @Ni...   \n",
       "3  Check out my new pickup from Nike⁠ SNKRS: http...   \n",
       "4  @jameslfreelance @Jumpman23 @Nike @nikestore O...   \n",
       "\n",
       "                 created_at  retweets  replies  likes  quote_count  \n",
       "0 2022-09-30 23:46:59+00:00         0        0      0            0  \n",
       "1 2022-09-30 23:43:45+00:00         0        0      0            0  \n",
       "2 2022-09-30 23:38:15+00:00         1        1     27            0  \n",
       "3 2022-09-30 23:35:28+00:00         0        1      0            0  \n",
       "4 2022-09-30 23:15:57+00:00         0        0      2            0  "
      ]
     },
     "execution_count": 13,
     "metadata": {},
     "output_type": "execute_result"
    }
   ],
   "source": [
    "print(nike_df.shape)\n",
    "nike_df.head()"
   ]
  },
  {
   "cell_type": "code",
   "execution_count": 19,
   "metadata": {},
   "outputs": [
    {
     "data": {
      "text/plain": [
       "'@ShaneDaleAZ Totally. The Nike uniforms since have replaced a distinguished/identifiable look to enhance their own brand at the expense of Arizona.'"
      ]
     },
     "execution_count": 19,
     "metadata": {},
     "output_type": "execute_result"
    }
   ],
   "source": [
    "nike_df['text'][0]"
   ]
  },
  {
   "cell_type": "markdown",
   "metadata": {},
   "source": [
    "### 4.2 New Balance"
   ]
  },
  {
   "cell_type": "code",
   "execution_count": 20,
   "metadata": {},
   "outputs": [],
   "source": [
    "# newbalance \n",
    "input_query = 'newbalance -is:retweet lang:en place_country:US'\n",
    "nb_query = full_archive_search(input_query)\n",
    "nb_df = full_archive_search_df(nb_query)"
   ]
  },
  {
   "cell_type": "code",
   "execution_count": 23,
   "metadata": {},
   "outputs": [
    {
     "name": "stdout",
     "output_type": "stream",
     "text": [
      "(240, 12)\n"
     ]
    },
    {
     "data": {
      "text/plain": [
       "'@snkr_twitr 🥵🥵😍😍😍 sexyyyy.\\n\\nI’m still stunned that when I worked at @striderite in 2010 @newbalance were not “IN” in Amerikkka at that time, and they used to be much cheaper lol.'"
      ]
     },
     "execution_count": 23,
     "metadata": {},
     "output_type": "execute_result"
    }
   ],
   "source": [
    "print(nb_df.shape)\n",
    "nb_df['text'][200]"
   ]
  },
  {
   "cell_type": "markdown",
   "metadata": {},
   "source": [
    "### 4.3 Adidas"
   ]
  },
  {
   "cell_type": "code",
   "execution_count": 24,
   "metadata": {},
   "outputs": [],
   "source": [
    "# adidas  \n",
    "input_query = 'adidas -is:retweet lang:en place_country:US'\n",
    "adidas_query = full_archive_search(input_query)\n",
    "adidas_df = full_archive_search_df(adidas_query)"
   ]
  },
  {
   "cell_type": "code",
   "execution_count": 27,
   "metadata": {},
   "outputs": [
    {
     "name": "stdout",
     "output_type": "stream",
     "text": [
      "(2346, 12)\n"
     ]
    },
    {
     "data": {
      "text/plain": [
       "'Did you see the new Adidas x Gucci pop up in melrose? The new partner will open tomorrow to provide customers with a unique shopping experience. https://t.co/smEQcOfP33'"
      ]
     },
     "execution_count": 27,
     "metadata": {},
     "output_type": "execute_result"
    }
   ],
   "source": [
    "print(adidas_df.shape)\n",
    "adidas_df['text'][178]"
   ]
  },
  {
   "cell_type": "markdown",
   "metadata": {},
   "source": [
    "### 4.4 Converse "
   ]
  },
  {
   "cell_type": "code",
   "execution_count": 28,
   "metadata": {},
   "outputs": [],
   "source": [
    "# converse  \n",
    "input_query = 'converse -is:retweet lang:en place_country:US'\n",
    "converse_query = full_archive_search(input_query)\n",
    "converse_df = full_archive_search_df(converse_query)"
   ]
  },
  {
   "cell_type": "code",
   "execution_count": 30,
   "metadata": {},
   "outputs": [
    {
     "name": "stdout",
     "output_type": "stream",
     "text": [
      "(942, 12)\n"
     ]
    },
    {
     "data": {
      "text/plain": [
       "'First wedding event of the trip! Indian kurta? Check. @scottevest pants? Check. Converse? Check. I live by my own rules. Also, my wife allowed it https://t.co/cS5llc3au2'"
      ]
     },
     "execution_count": 30,
     "metadata": {},
     "output_type": "execute_result"
    }
   ],
   "source": [
    "print(converse_df.shape)\n",
    "converse_df['text'][169]"
   ]
  },
  {
   "cell_type": "markdown",
   "metadata": {},
   "source": [
    "### 4.5 Reebok"
   ]
  },
  {
   "cell_type": "code",
   "execution_count": 31,
   "metadata": {},
   "outputs": [],
   "source": [
    "# reebok  \n",
    "input_query = 'reebok -is:retweet lang:en place_country:US'\n",
    "reebok_query = full_archive_search(input_query)\n",
    "reebok_df = full_archive_search_df(reebok_query)"
   ]
  },
  {
   "cell_type": "code",
   "execution_count": 32,
   "metadata": {},
   "outputs": [
    {
     "name": "stdout",
     "output_type": "stream",
     "text": [
      "(244, 12)\n"
     ]
    },
    {
     "data": {
      "text/plain": [
       "'@chinababee Well if you’re only talking about one song vs the other then sure, but lets talk about his Reebok collection though, his new crackhead appearance, his new bitch, him continuously claiming he’s #1 worldwide when we all know who is lmaooo I can keep going.'"
      ]
     },
     "execution_count": 32,
     "metadata": {},
     "output_type": "execute_result"
    }
   ],
   "source": [
    "print(reebok_df.shape)\n",
    "reebok_df['text'][152]"
   ]
  },
  {
   "cell_type": "code",
   "execution_count": 34,
   "metadata": {},
   "outputs": [
    {
     "data": {
      "text/plain": [
       "244"
      ]
     },
     "execution_count": 34,
     "metadata": {},
     "output_type": "execute_result"
    }
   ],
   "source": [
    "len(reebok_df)"
   ]
  },
  {
   "cell_type": "markdown",
   "metadata": {},
   "source": [
    "### 4.6 Combine the info "
   ]
  },
  {
   "cell_type": "code",
   "execution_count": 40,
   "metadata": {},
   "outputs": [
    {
     "data": {
      "text/html": [
       "<div>\n",
       "<style scoped>\n",
       "    .dataframe tbody tr th:only-of-type {\n",
       "        vertical-align: middle;\n",
       "    }\n",
       "\n",
       "    .dataframe tbody tr th {\n",
       "        vertical-align: top;\n",
       "    }\n",
       "\n",
       "    .dataframe thead th {\n",
       "        text-align: right;\n",
       "    }\n",
       "</style>\n",
       "<table border=\"1\" class=\"dataframe\">\n",
       "  <thead>\n",
       "    <tr style=\"text-align: right;\">\n",
       "      <th></th>\n",
       "      <th>brand</th>\n",
       "      <th>count</th>\n",
       "    </tr>\n",
       "  </thead>\n",
       "  <tbody>\n",
       "    <tr>\n",
       "      <th>0</th>\n",
       "      <td>Nike</td>\n",
       "      <td>7883</td>\n",
       "    </tr>\n",
       "    <tr>\n",
       "      <th>2</th>\n",
       "      <td>Adidas</td>\n",
       "      <td>2346</td>\n",
       "    </tr>\n",
       "    <tr>\n",
       "      <th>3</th>\n",
       "      <td>Converse</td>\n",
       "      <td>942</td>\n",
       "    </tr>\n",
       "    <tr>\n",
       "      <th>4</th>\n",
       "      <td>Reebok</td>\n",
       "      <td>244</td>\n",
       "    </tr>\n",
       "    <tr>\n",
       "      <th>1</th>\n",
       "      <td>New Balance</td>\n",
       "      <td>240</td>\n",
       "    </tr>\n",
       "  </tbody>\n",
       "</table>\n",
       "</div>"
      ],
      "text/plain": [
       "         brand  count\n",
       "0         Nike   7883\n",
       "2       Adidas   2346\n",
       "3     Converse    942\n",
       "4       Reebok    244\n",
       "1  New Balance    240"
      ]
     },
     "execution_count": 40,
     "metadata": {},
     "output_type": "execute_result"
    }
   ],
   "source": [
    "# text count of each brand \n",
    "d = {'brand':['Nike','New Balance','Adidas','Converse','Reebok'],\n",
    "     'count':[len(nike_df), len(nb_df), len(adidas_df),len(converse_df),len(reebok_df)]}\n",
    "\n",
    "brand_text_count = pd.DataFrame(columns=['brand','count'], data = d)\n",
    "\n",
    "brand_text_count.sort_values(by = ['count'],ascending = False)"
   ]
  },
  {
   "cell_type": "code",
   "execution_count": 45,
   "metadata": {},
   "outputs": [
    {
     "data": {
      "text/plain": [
       "(11655, 12)"
      ]
     },
     "execution_count": 45,
     "metadata": {},
     "output_type": "execute_result"
    }
   ],
   "source": [
    "# full dataset \n",
    "df = pd.concat([nike_df, adidas_df, nb_df, converse_df, reebok_df], axis = 0 )\n",
    "df.shape"
   ]
  }
 ],
 "metadata": {
  "kernelspec": {
   "display_name": "Python 3.8.8 ('base')",
   "language": "python",
   "name": "python3"
  },
  "language_info": {
   "codemirror_mode": {
    "name": "ipython",
    "version": 3
   },
   "file_extension": ".py",
   "mimetype": "text/x-python",
   "name": "python",
   "nbconvert_exporter": "python",
   "pygments_lexer": "ipython3",
   "version": "3.8.8"
  },
  "orig_nbformat": 4,
  "vscode": {
   "interpreter": {
    "hash": "22f19ce86b3867e446285b3f1a72227a98aa5a90743b2ef78c9d35e67c033ac6"
   }
  }
 },
 "nbformat": 4,
 "nbformat_minor": 2
}
