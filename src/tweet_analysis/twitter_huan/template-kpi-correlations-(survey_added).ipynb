{
 "cells": [
  {
   "cell_type": "markdown",
   "id": "12fc12b9-e963-44a0-b214-dcf9e89e7789",
   "metadata": {},
   "source": [
    "# An overview on KPIs\n",
    "\n",
    "This notebook provides an overview on the KPIs of all data sets and how they relate to each other."
   ]
  },
  {
   "cell_type": "code",
   "execution_count": 1,
   "id": "a9c6cf0c-687e-49fe-ae52-8ca526e7a09c",
   "metadata": {},
   "outputs": [
    {
     "name": "stderr",
     "output_type": "stream",
     "text": [
      "<frozen importlib._bootstrap>:241: RuntimeWarning: scipy._lib.messagestream.MessageStream size changed, may indicate binary incompatibility. Expected 56 from C header, got 64 from PyObject\n"
     ]
    }
   ],
   "source": [
    "import pandas as pd\n",
    "import seaborn as sns"
   ]
  },
  {
   "cell_type": "code",
   "execution_count": 2,
   "id": "23508a80-3677-4590-b5be-ce91267b4137",
   "metadata": {},
   "outputs": [],
   "source": [
    "brands = [\"Adidas\", \"Converse\", \"New Balance\", \"Nike\",\"Reebok\"]\n",
    "sentiments = [\"negative\", \"neutral\", \"positive\"]"
   ]
  },
  {
   "cell_type": "markdown",
   "id": "bbcc3674-bc80-4e23-990b-75d982ef86ca",
   "metadata": {},
   "source": [
    "## The data sets\n",
    "\n",
    "The data sets retrieved from each source should look similar to the stubs presented below."
   ]
  },
  {
   "cell_type": "markdown",
   "id": "4b61fdaf",
   "metadata": {},
   "source": [
    "Share of voice data source: [Link](https://github.com/HuanSunGo/Quantilope_Core/blob/main/src/tweet_analysis/twitter_frances/share_of_voice_franyang_nov10.ipynb) <br>\n",
    "Activities per tweet data source: [Link](https://github.com/HuanSunGo/Quantilope_Core/blob/main/src/tweet_analysis/twitter_frances/activities_per_tweet_franyang_nov10.ipynb)"
   ]
  },
  {
   "cell_type": "markdown",
   "id": "ee7779b9",
   "metadata": {},
   "source": [
    "### Twitter:"
   ]
  },
  {
   "cell_type": "code",
   "execution_count": 3,
   "id": "8d7e649c-6f16-47db-9eea-fef281fdbddc",
   "metadata": {
    "scrolled": true
   },
   "outputs": [
    {
     "data": {
      "text/html": [
       "<div>\n",
       "<style scoped>\n",
       "    .dataframe tbody tr th:only-of-type {\n",
       "        vertical-align: middle;\n",
       "    }\n",
       "\n",
       "    .dataframe tbody tr th {\n",
       "        vertical-align: top;\n",
       "    }\n",
       "\n",
       "    .dataframe thead th {\n",
       "        text-align: right;\n",
       "    }\n",
       "</style>\n",
       "<table border=\"1\" class=\"dataframe\">\n",
       "  <thead>\n",
       "    <tr style=\"text-align: right;\">\n",
       "      <th></th>\n",
       "      <th>perc_negative</th>\n",
       "      <th>perc_neutral</th>\n",
       "      <th>perc_positive</th>\n",
       "      <th>share_of_voice</th>\n",
       "      <th>retweets_mean</th>\n",
       "      <th>replies_mean</th>\n",
       "      <th>likes_mean</th>\n",
       "      <th>quote_count_mean</th>\n",
       "    </tr>\n",
       "  </thead>\n",
       "  <tbody>\n",
       "    <tr>\n",
       "      <th>Adidas</th>\n",
       "      <td>0.1276</td>\n",
       "      <td>0.6729</td>\n",
       "      <td>0.1995</td>\n",
       "      <td>0.192406</td>\n",
       "      <td>0.711236</td>\n",
       "      <td>0.802255</td>\n",
       "      <td>6.503826</td>\n",
       "      <td>0.161498</td>\n",
       "    </tr>\n",
       "    <tr>\n",
       "      <th>Converse</th>\n",
       "      <td>0.1761</td>\n",
       "      <td>0.6004</td>\n",
       "      <td>0.2235</td>\n",
       "      <td>0.076869</td>\n",
       "      <td>0.462702</td>\n",
       "      <td>0.684476</td>\n",
       "      <td>6.407258</td>\n",
       "      <td>0.100806</td>\n",
       "    </tr>\n",
       "    <tr>\n",
       "      <th>New Balance</th>\n",
       "      <td>0.1014</td>\n",
       "      <td>0.7028</td>\n",
       "      <td>0.1959</td>\n",
       "      <td>0.055327</td>\n",
       "      <td>0.826331</td>\n",
       "      <td>0.705882</td>\n",
       "      <td>7.292717</td>\n",
       "      <td>0.149860</td>\n",
       "    </tr>\n",
       "    <tr>\n",
       "      <th>Nike</th>\n",
       "      <td>0.1346</td>\n",
       "      <td>0.6529</td>\n",
       "      <td>0.2125</td>\n",
       "      <td>0.654862</td>\n",
       "      <td>0.563720</td>\n",
       "      <td>0.644066</td>\n",
       "      <td>6.964975</td>\n",
       "      <td>0.114898</td>\n",
       "    </tr>\n",
       "    <tr>\n",
       "      <th>Reebok</th>\n",
       "      <td>0.0451</td>\n",
       "      <td>0.8515</td>\n",
       "      <td>0.1034</td>\n",
       "      <td>0.020535</td>\n",
       "      <td>0.320755</td>\n",
       "      <td>0.483019</td>\n",
       "      <td>5.664151</td>\n",
       "      <td>0.064151</td>\n",
       "    </tr>\n",
       "  </tbody>\n",
       "</table>\n",
       "</div>"
      ],
      "text/plain": [
       "             perc_negative  perc_neutral  perc_positive  share_of_voice  \\\n",
       "Adidas              0.1276        0.6729         0.1995        0.192406   \n",
       "Converse            0.1761        0.6004         0.2235        0.076869   \n",
       "New Balance         0.1014        0.7028         0.1959        0.055327   \n",
       "Nike                0.1346        0.6529         0.2125        0.654862   \n",
       "Reebok              0.0451        0.8515         0.1034        0.020535   \n",
       "\n",
       "             retweets_mean  replies_mean  likes_mean  quote_count_mean  \n",
       "Adidas            0.711236      0.802255    6.503826          0.161498  \n",
       "Converse          0.462702      0.684476    6.407258          0.100806  \n",
       "New Balance       0.826331      0.705882    7.292717          0.149860  \n",
       "Nike              0.563720      0.644066    6.964975          0.114898  \n",
       "Reebok            0.320755      0.483019    5.664151          0.064151  "
      ]
     },
     "execution_count": 3,
     "metadata": {},
     "output_type": "execute_result"
    }
   ],
   "source": [
    "# Add also the other KPIs for activities per tweet and share of voice as columns to the data set.\n",
    "twitter_stub = pd.DataFrame(index=brands, columns=[f\"perc_{sentiment}\" for sentiment in sentiments])\n",
    "\n",
    "\"\"\"Twitter Dataset\"\"\"\n",
    "\n",
    "# please fill in the sentiment percent below \n",
    "twitter_stub[\"perc_negative\"] = [0.1276, 0.1761, 0.1014, 0.1346, 0.0451 ]\n",
    "twitter_stub[\"perc_neutral\"] = [0.6729, 0.6004, 0.7028, 0.6529, 0.8515 ]\n",
    "twitter_stub[\"perc_positive\"] = [0.1995, 0.2235, 0.1959, 0.2125, 0.1034]\n",
    "\n",
    "\n",
    "# share of voice\n",
    "twitter_stub['share_of_voice'] = [0.192406, 0.076869, 0.055327, 0.654862, 0.020535]\n",
    "\n",
    "# activities per tweet \n",
    "twitter_stub['retweets_mean'] = [0.711236, 0.462702, 0.826331, 0.563720, 0.320755]\n",
    "twitter_stub['replies_mean'] = [0.802255, 0.684476, 0.705882, 0.644066, 0.483019]\n",
    "twitter_stub['likes_mean'] = [6.503826, 6.407258, 7.292717, 6.964975, 5.664151]\n",
    "twitter_stub['quote_count_mean'] = [0.161498, 0.100806, 0.149860, 0.114898, 0.064151]\n",
    "\n",
    "twitter_stub"
   ]
  },
  {
   "cell_type": "markdown",
   "id": "c862f6d6",
   "metadata": {},
   "source": [
    "### Survey Table:"
   ]
  },
  {
   "cell_type": "code",
   "execution_count": 10,
   "id": "03d1334a-31e7-4370-8e54-396417e2f1f3",
   "metadata": {},
   "outputs": [
    {
     "data": {
      "text/html": [
       "<div>\n",
       "<style scoped>\n",
       "    .dataframe tbody tr th:only-of-type {\n",
       "        vertical-align: middle;\n",
       "    }\n",
       "\n",
       "    .dataframe tbody tr th {\n",
       "        vertical-align: top;\n",
       "    }\n",
       "\n",
       "    .dataframe thead th {\n",
       "        text-align: right;\n",
       "    }\n",
       "</style>\n",
       "<table border=\"1\" class=\"dataframe\">\n",
       "  <thead>\n",
       "    <tr style=\"text-align: right;\">\n",
       "      <th></th>\n",
       "      <th>perc_negative</th>\n",
       "      <th>perc_neutral</th>\n",
       "      <th>perc_positive</th>\n",
       "    </tr>\n",
       "  </thead>\n",
       "  <tbody>\n",
       "    <tr>\n",
       "      <th>Adidas</th>\n",
       "      <td>0.110</td>\n",
       "      <td>0.33</td>\n",
       "      <td>0.56</td>\n",
       "    </tr>\n",
       "    <tr>\n",
       "      <th>Converse</th>\n",
       "      <td>0.130</td>\n",
       "      <td>0.42</td>\n",
       "      <td>0.45</td>\n",
       "    </tr>\n",
       "    <tr>\n",
       "      <th>New Balance</th>\n",
       "      <td>0.160</td>\n",
       "      <td>0.27</td>\n",
       "      <td>0.56</td>\n",
       "    </tr>\n",
       "    <tr>\n",
       "      <th>Nike</th>\n",
       "      <td>0.099</td>\n",
       "      <td>0.34</td>\n",
       "      <td>0.56</td>\n",
       "    </tr>\n",
       "    <tr>\n",
       "      <th>Reebok</th>\n",
       "      <td>0.180</td>\n",
       "      <td>0.36</td>\n",
       "      <td>0.46</td>\n",
       "    </tr>\n",
       "  </tbody>\n",
       "</table>\n",
       "</div>"
      ],
      "text/plain": [
       "             perc_negative  perc_neutral  perc_positive\n",
       "Adidas               0.110          0.33           0.56\n",
       "Converse             0.130          0.42           0.45\n",
       "New Balance          0.160          0.27           0.56\n",
       "Nike                 0.099          0.34           0.56\n",
       "Reebok               0.180          0.36           0.46"
      ]
     },
     "execution_count": 10,
     "metadata": {},
     "output_type": "execute_result"
    }
   ],
   "source": [
    "# Add also the other KPIs for image ratings and funnel metrics as columns to the data set.\n",
    "survey_tot_stub = pd.DataFrame(index=brands, columns=[f\"perc_{sentiment}\" for sentiment in sentiments])\n",
    "\n",
    "'''\n",
    "This part is for the total survey dataset. \n",
    "'''\n",
    "\n",
    "survey_tot_stub[\"perc_positive\"] = [0.56, 0.45, 0.56, 0.56, 0.46]\n",
    "survey_tot_stub[\"perc_neutral\"] = [0.33, 0.42, 0.27, 0.34, 0.36]\n",
    "survey_tot_stub[\"perc_negative\"] = [0.11, 0.13, 0.16, 0.099, 0.18]\n",
    "survey_tot_stub"
   ]
  },
  {
   "cell_type": "code",
   "execution_count": 11,
   "id": "4301c59d-ac1f-421f-b517-0734e77c0c8d",
   "metadata": {},
   "outputs": [
    {
     "data": {
      "text/html": [
       "<div>\n",
       "<style scoped>\n",
       "    .dataframe tbody tr th:only-of-type {\n",
       "        vertical-align: middle;\n",
       "    }\n",
       "\n",
       "    .dataframe tbody tr th {\n",
       "        vertical-align: top;\n",
       "    }\n",
       "\n",
       "    .dataframe thead th {\n",
       "        text-align: right;\n",
       "    }\n",
       "</style>\n",
       "<table border=\"1\" class=\"dataframe\">\n",
       "  <thead>\n",
       "    <tr style=\"text-align: right;\">\n",
       "      <th></th>\n",
       "      <th>perc_negative</th>\n",
       "      <th>perc_neutral</th>\n",
       "      <th>perc_positive</th>\n",
       "    </tr>\n",
       "  </thead>\n",
       "  <tbody>\n",
       "    <tr>\n",
       "      <th>Adidas</th>\n",
       "      <td>0.07</td>\n",
       "      <td>0.28</td>\n",
       "      <td>0.65</td>\n",
       "    </tr>\n",
       "    <tr>\n",
       "      <th>Converse</th>\n",
       "      <td>0.10</td>\n",
       "      <td>0.36</td>\n",
       "      <td>0.53</td>\n",
       "    </tr>\n",
       "    <tr>\n",
       "      <th>New Balance</th>\n",
       "      <td>0.08</td>\n",
       "      <td>0.23</td>\n",
       "      <td>0.69</td>\n",
       "    </tr>\n",
       "    <tr>\n",
       "      <th>Nike</th>\n",
       "      <td>0.10</td>\n",
       "      <td>0.26</td>\n",
       "      <td>0.63</td>\n",
       "    </tr>\n",
       "    <tr>\n",
       "      <th>Reebok</th>\n",
       "      <td>0.12</td>\n",
       "      <td>0.30</td>\n",
       "      <td>0.57</td>\n",
       "    </tr>\n",
       "  </tbody>\n",
       "</table>\n",
       "</div>"
      ],
      "text/plain": [
       "             perc_negative  perc_neutral  perc_positive\n",
       "Adidas                0.07          0.28           0.65\n",
       "Converse              0.10          0.36           0.53\n",
       "New Balance           0.08          0.23           0.69\n",
       "Nike                  0.10          0.26           0.63\n",
       "Reebok                0.12          0.30           0.57"
      ]
     },
     "execution_count": 11,
     "metadata": {},
     "output_type": "execute_result"
    }
   ],
   "source": [
    "# Add also the other KPIs for image ratings and funnel metrics as columns to the data set.\n",
    "\n",
    "'''\n",
    "This part is for the subsample (Twitter-savvy) dataset.\n",
    "'''\n",
    "survey_twitter_savy_stub = pd.DataFrame(index=brands, columns=[f\"perc_{sentiment}\" for sentiment in sentiments])\n",
    "\n",
    "survey_twitter_savy_stub[\"perc_positive\"] = [0.65, 0.53, 0.69, 0.63, 0.57]\n",
    "survey_twitter_savy_stub[\"perc_neutral\"] = [0.28, 0.36, 0.23, 0.26, 0.30]\n",
    "survey_twitter_savy_stub[\"perc_negative\"] = [0.07, 0.10, 0.08, 0.10, 0.12]\n",
    "survey_twitter_savy_stub"
   ]
  },
  {
   "cell_type": "markdown",
   "id": "faf2e5e1-18dc-470d-bdaf-68a41a7143c7",
   "metadata": {},
   "source": [
    "## Within-data correlation\n",
    "\n",
    "Here, we want to see how KPIs within a data set are correlated with each other. For that, we first rank the data. Let us take the twitter data as an example."
   ]
  },
  {
   "cell_type": "code",
   "execution_count": 12,
   "id": "a56f75ef-1ff2-43c9-952c-00d4934edf71",
   "metadata": {},
   "outputs": [
    {
     "data": {
      "text/html": [
       "<div>\n",
       "<style scoped>\n",
       "    .dataframe tbody tr th:only-of-type {\n",
       "        vertical-align: middle;\n",
       "    }\n",
       "\n",
       "    .dataframe tbody tr th {\n",
       "        vertical-align: top;\n",
       "    }\n",
       "\n",
       "    .dataframe thead th {\n",
       "        text-align: right;\n",
       "    }\n",
       "</style>\n",
       "<table border=\"1\" class=\"dataframe\">\n",
       "  <thead>\n",
       "    <tr style=\"text-align: right;\">\n",
       "      <th></th>\n",
       "      <th>perc_negative</th>\n",
       "      <th>perc_neutral</th>\n",
       "      <th>perc_positive</th>\n",
       "      <th>share_of_voice</th>\n",
       "      <th>retweets_mean</th>\n",
       "      <th>replies_mean</th>\n",
       "      <th>likes_mean</th>\n",
       "      <th>quote_count_mean</th>\n",
       "    </tr>\n",
       "  </thead>\n",
       "  <tbody>\n",
       "    <tr>\n",
       "      <th>Adidas</th>\n",
       "      <td>3.0</td>\n",
       "      <td>3.0</td>\n",
       "      <td>3.0</td>\n",
       "      <td>2.0</td>\n",
       "      <td>2.0</td>\n",
       "      <td>1.0</td>\n",
       "      <td>3.0</td>\n",
       "      <td>1.0</td>\n",
       "    </tr>\n",
       "    <tr>\n",
       "      <th>Converse</th>\n",
       "      <td>1.0</td>\n",
       "      <td>5.0</td>\n",
       "      <td>1.0</td>\n",
       "      <td>3.0</td>\n",
       "      <td>4.0</td>\n",
       "      <td>3.0</td>\n",
       "      <td>4.0</td>\n",
       "      <td>4.0</td>\n",
       "    </tr>\n",
       "    <tr>\n",
       "      <th>New Balance</th>\n",
       "      <td>4.0</td>\n",
       "      <td>2.0</td>\n",
       "      <td>4.0</td>\n",
       "      <td>4.0</td>\n",
       "      <td>1.0</td>\n",
       "      <td>2.0</td>\n",
       "      <td>1.0</td>\n",
       "      <td>2.0</td>\n",
       "    </tr>\n",
       "    <tr>\n",
       "      <th>Nike</th>\n",
       "      <td>2.0</td>\n",
       "      <td>4.0</td>\n",
       "      <td>2.0</td>\n",
       "      <td>1.0</td>\n",
       "      <td>3.0</td>\n",
       "      <td>4.0</td>\n",
       "      <td>2.0</td>\n",
       "      <td>3.0</td>\n",
       "    </tr>\n",
       "    <tr>\n",
       "      <th>Reebok</th>\n",
       "      <td>5.0</td>\n",
       "      <td>1.0</td>\n",
       "      <td>5.0</td>\n",
       "      <td>5.0</td>\n",
       "      <td>5.0</td>\n",
       "      <td>5.0</td>\n",
       "      <td>5.0</td>\n",
       "      <td>5.0</td>\n",
       "    </tr>\n",
       "  </tbody>\n",
       "</table>\n",
       "</div>"
      ],
      "text/plain": [
       "             perc_negative  perc_neutral  perc_positive  share_of_voice  \\\n",
       "Adidas                 3.0           3.0            3.0             2.0   \n",
       "Converse               1.0           5.0            1.0             3.0   \n",
       "New Balance            4.0           2.0            4.0             4.0   \n",
       "Nike                   2.0           4.0            2.0             1.0   \n",
       "Reebok                 5.0           1.0            5.0             5.0   \n",
       "\n",
       "             retweets_mean  replies_mean  likes_mean  quote_count_mean  \n",
       "Adidas                 2.0           1.0         3.0               1.0  \n",
       "Converse               4.0           3.0         4.0               4.0  \n",
       "New Balance            1.0           2.0         1.0               2.0  \n",
       "Nike                   3.0           4.0         2.0               3.0  \n",
       "Reebok                 5.0           5.0         5.0               5.0  "
      ]
     },
     "execution_count": 12,
     "metadata": {},
     "output_type": "execute_result"
    }
   ],
   "source": [
    "twitter_ranked = twitter_stub.rank(axis=\"index\", ascending=False)\n",
    "twitter_ranked"
   ]
  },
  {
   "cell_type": "code",
   "execution_count": 13,
   "id": "558f3feb",
   "metadata": {},
   "outputs": [
    {
     "data": {
      "text/html": [
       "<div>\n",
       "<style scoped>\n",
       "    .dataframe tbody tr th:only-of-type {\n",
       "        vertical-align: middle;\n",
       "    }\n",
       "\n",
       "    .dataframe tbody tr th {\n",
       "        vertical-align: top;\n",
       "    }\n",
       "\n",
       "    .dataframe thead th {\n",
       "        text-align: right;\n",
       "    }\n",
       "</style>\n",
       "<table border=\"1\" class=\"dataframe\">\n",
       "  <thead>\n",
       "    <tr style=\"text-align: right;\">\n",
       "      <th></th>\n",
       "      <th>perc_negative</th>\n",
       "      <th>perc_neutral</th>\n",
       "      <th>perc_positive</th>\n",
       "    </tr>\n",
       "  </thead>\n",
       "  <tbody>\n",
       "    <tr>\n",
       "      <th>Adidas</th>\n",
       "      <td>5.0</td>\n",
       "      <td>3.0</td>\n",
       "      <td>2.0</td>\n",
       "    </tr>\n",
       "    <tr>\n",
       "      <th>Converse</th>\n",
       "      <td>2.5</td>\n",
       "      <td>1.0</td>\n",
       "      <td>5.0</td>\n",
       "    </tr>\n",
       "    <tr>\n",
       "      <th>New Balance</th>\n",
       "      <td>4.0</td>\n",
       "      <td>5.0</td>\n",
       "      <td>1.0</td>\n",
       "    </tr>\n",
       "    <tr>\n",
       "      <th>Nike</th>\n",
       "      <td>2.5</td>\n",
       "      <td>4.0</td>\n",
       "      <td>3.0</td>\n",
       "    </tr>\n",
       "    <tr>\n",
       "      <th>Reebok</th>\n",
       "      <td>1.0</td>\n",
       "      <td>2.0</td>\n",
       "      <td>4.0</td>\n",
       "    </tr>\n",
       "  </tbody>\n",
       "</table>\n",
       "</div>"
      ],
      "text/plain": [
       "             perc_negative  perc_neutral  perc_positive\n",
       "Adidas                 5.0           3.0            2.0\n",
       "Converse               2.5           1.0            5.0\n",
       "New Balance            4.0           5.0            1.0\n",
       "Nike                   2.5           4.0            3.0\n",
       "Reebok                 1.0           2.0            4.0"
      ]
     },
     "execution_count": 13,
     "metadata": {},
     "output_type": "execute_result"
    }
   ],
   "source": [
    "survey_twitter_savy_ranked = survey_twitter_savy_stub.rank(axis=\"index\", ascending=False)\n",
    "survey_twitter_savy_ranked"
   ]
  },
  {
   "cell_type": "code",
   "execution_count": 14,
   "id": "1db07af4",
   "metadata": {},
   "outputs": [
    {
     "data": {
      "text/html": [
       "<div>\n",
       "<style scoped>\n",
       "    .dataframe tbody tr th:only-of-type {\n",
       "        vertical-align: middle;\n",
       "    }\n",
       "\n",
       "    .dataframe tbody tr th {\n",
       "        vertical-align: top;\n",
       "    }\n",
       "\n",
       "    .dataframe thead th {\n",
       "        text-align: right;\n",
       "    }\n",
       "</style>\n",
       "<table border=\"1\" class=\"dataframe\">\n",
       "  <thead>\n",
       "    <tr style=\"text-align: right;\">\n",
       "      <th></th>\n",
       "      <th>perc_negative</th>\n",
       "      <th>perc_neutral</th>\n",
       "      <th>perc_positive</th>\n",
       "    </tr>\n",
       "  </thead>\n",
       "  <tbody>\n",
       "    <tr>\n",
       "      <th>Adidas</th>\n",
       "      <td>4.0</td>\n",
       "      <td>4.0</td>\n",
       "      <td>2.0</td>\n",
       "    </tr>\n",
       "    <tr>\n",
       "      <th>Converse</th>\n",
       "      <td>3.0</td>\n",
       "      <td>1.0</td>\n",
       "      <td>5.0</td>\n",
       "    </tr>\n",
       "    <tr>\n",
       "      <th>New Balance</th>\n",
       "      <td>2.0</td>\n",
       "      <td>5.0</td>\n",
       "      <td>2.0</td>\n",
       "    </tr>\n",
       "    <tr>\n",
       "      <th>Nike</th>\n",
       "      <td>5.0</td>\n",
       "      <td>3.0</td>\n",
       "      <td>2.0</td>\n",
       "    </tr>\n",
       "    <tr>\n",
       "      <th>Reebok</th>\n",
       "      <td>1.0</td>\n",
       "      <td>2.0</td>\n",
       "      <td>4.0</td>\n",
       "    </tr>\n",
       "  </tbody>\n",
       "</table>\n",
       "</div>"
      ],
      "text/plain": [
       "             perc_negative  perc_neutral  perc_positive\n",
       "Adidas                 4.0           4.0            2.0\n",
       "Converse               3.0           1.0            5.0\n",
       "New Balance            2.0           5.0            2.0\n",
       "Nike                   5.0           3.0            2.0\n",
       "Reebok                 1.0           2.0            4.0"
      ]
     },
     "execution_count": 14,
     "metadata": {},
     "output_type": "execute_result"
    }
   ],
   "source": [
    "survey_tot_stub_ranked = survey_tot_stub.rank(axis=\"index\", ascending=False)\n",
    "survey_tot_stub_ranked"
   ]
  },
  {
   "cell_type": "markdown",
   "id": "2dae4206-a1c5-4d8f-8c09-8be063957ecf",
   "metadata": {},
   "source": [
    "Now, that all the KPIs are ranked, let's calculate Kendall's tau for each combination of KPIs."
   ]
  },
  {
   "cell_type": "code",
   "execution_count": 15,
   "id": "cb28474c-265d-4c4c-a6f0-90455e0ce050",
   "metadata": {},
   "outputs": [
    {
     "data": {
      "text/html": [
       "<div>\n",
       "<style scoped>\n",
       "    .dataframe tbody tr th:only-of-type {\n",
       "        vertical-align: middle;\n",
       "    }\n",
       "\n",
       "    .dataframe tbody tr th {\n",
       "        vertical-align: top;\n",
       "    }\n",
       "\n",
       "    .dataframe thead th {\n",
       "        text-align: right;\n",
       "    }\n",
       "</style>\n",
       "<table border=\"1\" class=\"dataframe\">\n",
       "  <thead>\n",
       "    <tr style=\"text-align: right;\">\n",
       "      <th></th>\n",
       "      <th>perc_negative</th>\n",
       "      <th>perc_neutral</th>\n",
       "      <th>perc_positive</th>\n",
       "      <th>share_of_voice</th>\n",
       "      <th>retweets_mean</th>\n",
       "      <th>replies_mean</th>\n",
       "      <th>likes_mean</th>\n",
       "      <th>quote_count_mean</th>\n",
       "    </tr>\n",
       "  </thead>\n",
       "  <tbody>\n",
       "    <tr>\n",
       "      <th>perc_negative</th>\n",
       "      <td>1.0</td>\n",
       "      <td>-1.0</td>\n",
       "      <td>1.0</td>\n",
       "      <td>0.6</td>\n",
       "      <td>-0.2</td>\n",
       "      <td>0.2</td>\n",
       "      <td>0.0</td>\n",
       "      <td>0.0</td>\n",
       "    </tr>\n",
       "    <tr>\n",
       "      <th>perc_neutral</th>\n",
       "      <td>-1.0</td>\n",
       "      <td>1.0</td>\n",
       "      <td>-1.0</td>\n",
       "      <td>-0.6</td>\n",
       "      <td>0.2</td>\n",
       "      <td>-0.2</td>\n",
       "      <td>0.0</td>\n",
       "      <td>0.0</td>\n",
       "    </tr>\n",
       "    <tr>\n",
       "      <th>perc_positive</th>\n",
       "      <td>1.0</td>\n",
       "      <td>-1.0</td>\n",
       "      <td>1.0</td>\n",
       "      <td>0.6</td>\n",
       "      <td>-0.2</td>\n",
       "      <td>0.2</td>\n",
       "      <td>0.0</td>\n",
       "      <td>0.0</td>\n",
       "    </tr>\n",
       "    <tr>\n",
       "      <th>share_of_voice</th>\n",
       "      <td>0.6</td>\n",
       "      <td>-0.6</td>\n",
       "      <td>0.6</td>\n",
       "      <td>1.0</td>\n",
       "      <td>0.2</td>\n",
       "      <td>0.2</td>\n",
       "      <td>0.4</td>\n",
       "      <td>0.4</td>\n",
       "    </tr>\n",
       "    <tr>\n",
       "      <th>retweets_mean</th>\n",
       "      <td>-0.2</td>\n",
       "      <td>0.2</td>\n",
       "      <td>-0.2</td>\n",
       "      <td>0.2</td>\n",
       "      <td>1.0</td>\n",
       "      <td>0.6</td>\n",
       "      <td>0.8</td>\n",
       "      <td>0.8</td>\n",
       "    </tr>\n",
       "    <tr>\n",
       "      <th>replies_mean</th>\n",
       "      <td>0.2</td>\n",
       "      <td>-0.2</td>\n",
       "      <td>0.2</td>\n",
       "      <td>0.2</td>\n",
       "      <td>0.6</td>\n",
       "      <td>1.0</td>\n",
       "      <td>0.4</td>\n",
       "      <td>0.8</td>\n",
       "    </tr>\n",
       "    <tr>\n",
       "      <th>likes_mean</th>\n",
       "      <td>0.0</td>\n",
       "      <td>0.0</td>\n",
       "      <td>0.0</td>\n",
       "      <td>0.4</td>\n",
       "      <td>0.8</td>\n",
       "      <td>0.4</td>\n",
       "      <td>1.0</td>\n",
       "      <td>0.6</td>\n",
       "    </tr>\n",
       "    <tr>\n",
       "      <th>quote_count_mean</th>\n",
       "      <td>0.0</td>\n",
       "      <td>0.0</td>\n",
       "      <td>0.0</td>\n",
       "      <td>0.4</td>\n",
       "      <td>0.8</td>\n",
       "      <td>0.8</td>\n",
       "      <td>0.6</td>\n",
       "      <td>1.0</td>\n",
       "    </tr>\n",
       "  </tbody>\n",
       "</table>\n",
       "</div>"
      ],
      "text/plain": [
       "                  perc_negative  perc_neutral  perc_positive  share_of_voice  \\\n",
       "perc_negative               1.0          -1.0            1.0             0.6   \n",
       "perc_neutral               -1.0           1.0           -1.0            -0.6   \n",
       "perc_positive               1.0          -1.0            1.0             0.6   \n",
       "share_of_voice              0.6          -0.6            0.6             1.0   \n",
       "retweets_mean              -0.2           0.2           -0.2             0.2   \n",
       "replies_mean                0.2          -0.2            0.2             0.2   \n",
       "likes_mean                  0.0           0.0            0.0             0.4   \n",
       "quote_count_mean            0.0           0.0            0.0             0.4   \n",
       "\n",
       "                  retweets_mean  replies_mean  likes_mean  quote_count_mean  \n",
       "perc_negative              -0.2           0.2         0.0               0.0  \n",
       "perc_neutral                0.2          -0.2         0.0               0.0  \n",
       "perc_positive              -0.2           0.2         0.0               0.0  \n",
       "share_of_voice              0.2           0.2         0.4               0.4  \n",
       "retweets_mean               1.0           0.6         0.8               0.8  \n",
       "replies_mean                0.6           1.0         0.4               0.8  \n",
       "likes_mean                  0.8           0.4         1.0               0.6  \n",
       "quote_count_mean            0.8           0.8         0.6               1.0  "
      ]
     },
     "execution_count": 15,
     "metadata": {},
     "output_type": "execute_result"
    }
   ],
   "source": [
    "cross_correlations = twitter_ranked.corr(method=\"kendall\")\n",
    "cross_correlations"
   ]
  },
  {
   "cell_type": "code",
   "execution_count": 16,
   "id": "3915e0bf",
   "metadata": {},
   "outputs": [
    {
     "data": {
      "text/html": [
       "<div>\n",
       "<style scoped>\n",
       "    .dataframe tbody tr th:only-of-type {\n",
       "        vertical-align: middle;\n",
       "    }\n",
       "\n",
       "    .dataframe tbody tr th {\n",
       "        vertical-align: top;\n",
       "    }\n",
       "\n",
       "    .dataframe thead th {\n",
       "        text-align: right;\n",
       "    }\n",
       "</style>\n",
       "<table border=\"1\" class=\"dataframe\">\n",
       "  <thead>\n",
       "    <tr style=\"text-align: right;\">\n",
       "      <th></th>\n",
       "      <th>perc_negative</th>\n",
       "      <th>perc_neutral</th>\n",
       "      <th>perc_positive</th>\n",
       "    </tr>\n",
       "  </thead>\n",
       "  <tbody>\n",
       "    <tr>\n",
       "      <th>perc_negative</th>\n",
       "      <td>1.000000</td>\n",
       "      <td>0.00000</td>\n",
       "      <td>-0.358569</td>\n",
       "    </tr>\n",
       "    <tr>\n",
       "      <th>perc_neutral</th>\n",
       "      <td>0.000000</td>\n",
       "      <td>1.00000</td>\n",
       "      <td>-0.836660</td>\n",
       "    </tr>\n",
       "    <tr>\n",
       "      <th>perc_positive</th>\n",
       "      <td>-0.358569</td>\n",
       "      <td>-0.83666</td>\n",
       "      <td>1.000000</td>\n",
       "    </tr>\n",
       "  </tbody>\n",
       "</table>\n",
       "</div>"
      ],
      "text/plain": [
       "               perc_negative  perc_neutral  perc_positive\n",
       "perc_negative       1.000000       0.00000      -0.358569\n",
       "perc_neutral        0.000000       1.00000      -0.836660\n",
       "perc_positive      -0.358569      -0.83666       1.000000"
      ]
     },
     "execution_count": 16,
     "metadata": {},
     "output_type": "execute_result"
    }
   ],
   "source": [
    "cross_correlations_survey_sub = survey_tot_stub_ranked.corr(method=\"kendall\")\n",
    "cross_correlations_survey_sub\n"
   ]
  },
  {
   "cell_type": "code",
   "execution_count": 17,
   "id": "a163c93f",
   "metadata": {},
   "outputs": [
    {
     "data": {
      "text/html": [
       "<div>\n",
       "<style scoped>\n",
       "    .dataframe tbody tr th:only-of-type {\n",
       "        vertical-align: middle;\n",
       "    }\n",
       "\n",
       "    .dataframe tbody tr th {\n",
       "        vertical-align: top;\n",
       "    }\n",
       "\n",
       "    .dataframe thead th {\n",
       "        text-align: right;\n",
       "    }\n",
       "</style>\n",
       "<table border=\"1\" class=\"dataframe\">\n",
       "  <thead>\n",
       "    <tr style=\"text-align: right;\">\n",
       "      <th></th>\n",
       "      <th>perc_negative</th>\n",
       "      <th>perc_neutral</th>\n",
       "      <th>perc_positive</th>\n",
       "    </tr>\n",
       "  </thead>\n",
       "  <tbody>\n",
       "    <tr>\n",
       "      <th>perc_negative</th>\n",
       "      <td>1.000000</td>\n",
       "      <td>0.316228</td>\n",
       "      <td>-0.527046</td>\n",
       "    </tr>\n",
       "    <tr>\n",
       "      <th>perc_neutral</th>\n",
       "      <td>0.316228</td>\n",
       "      <td>1.000000</td>\n",
       "      <td>-0.800000</td>\n",
       "    </tr>\n",
       "    <tr>\n",
       "      <th>perc_positive</th>\n",
       "      <td>-0.527046</td>\n",
       "      <td>-0.800000</td>\n",
       "      <td>1.000000</td>\n",
       "    </tr>\n",
       "  </tbody>\n",
       "</table>\n",
       "</div>"
      ],
      "text/plain": [
       "               perc_negative  perc_neutral  perc_positive\n",
       "perc_negative       1.000000      0.316228      -0.527046\n",
       "perc_neutral        0.316228      1.000000      -0.800000\n",
       "perc_positive      -0.527046     -0.800000       1.000000"
      ]
     },
     "execution_count": 17,
     "metadata": {},
     "output_type": "execute_result"
    }
   ],
   "source": [
    "cross_correlations_survey_tot = survey_twitter_savy_ranked.corr(method = \"kendall\")\n",
    "cross_correlations_survey_tot "
   ]
  },
  {
   "cell_type": "markdown",
   "id": "a2ffd80a-32e5-4830-bd6e-ecbc5a3942eb",
   "metadata": {},
   "source": [
    "Now, let's visualize the correlations which is easier than skimming the numbers."
   ]
  },
  {
   "cell_type": "code",
   "execution_count": 18,
   "id": "18247f59-7804-4d7b-9558-76ce58ede63f",
   "metadata": {},
   "outputs": [
    {
     "data": {
      "text/plain": [
       "<AxesSubplot: >"
      ]
     },
     "execution_count": 18,
     "metadata": {},
     "output_type": "execute_result"
    },
    {
     "data": {
      "image/png": "[encoded data removed]",
      "text/plain": [
       "<Figure size 640x480 with 2 Axes>"
      ]
     },
     "metadata": {},
     "output_type": "display_data"
    }
   ],
   "source": [
    "sns.heatmap(data=cross_correlations)"
   ]
  },
  {
   "cell_type": "code",
   "execution_count": 19,
   "id": "8a747d99",
   "metadata": {},
   "outputs": [
    {
     "data": {
      "text/plain": [
       "<AxesSubplot: >"
      ]
     },
     "execution_count": 19,
     "metadata": {},
     "output_type": "execute_result"
    },
    {
     "data": {
      "image/png": "[encoded data removed]",
      "text/plain": [
       "<Figure size 640x480 with 2 Axes>"
      ]
     },
     "metadata": {},
     "output_type": "display_data"
    }
   ],
   "source": [
    "sns.heatmap(data=cross_correlations_survey_sub)"
   ]
  },
  {
   "cell_type": "code",
   "execution_count": 20,
   "id": "867d3b22",
   "metadata": {},
   "outputs": [
    {
     "data": {
      "text/plain": [
       "<AxesSubplot: >"
      ]
     },
     "execution_count": 20,
     "metadata": {},
     "output_type": "execute_result"
    },
    {
     "data": {
      "image/png": "[encoded data removed]",
      "text/plain": [
       "<Figure size 640x480 with 2 Axes>"
      ]
     },
     "metadata": {},
     "output_type": "display_data"
    }
   ],
   "source": [
    "sns.heatmap(data=cross_correlations_survey_tot)"
   ]
  },
  {
   "cell_type": "markdown",
   "id": "2c544aa2-a6dd-4bfd-88ee-6865586d79c6",
   "metadata": {},
   "source": [
    "Please, repeat the same steps for the other data sets."
   ]
  },
  {
   "cell_type": "markdown",
   "id": "7636d895-98df-45d8-9999-0384e92ed94c",
   "metadata": {},
   "source": [
    "## Across-data correlations\n",
    "\n",
    "We also want to see correlations between KPIs of different data sets. So, let's combine two data sets with ranked data."
   ]
  },
  {
   "cell_type": "code",
   "execution_count": null,
   "id": "9619251a",
   "metadata": {},
   "outputs": [],
   "source": [
    "survey_tot_stub_ranked\n",
    "survey_twitter_savy_ranked\n",
    "twitter_ranked"
   ]
  },
  {
   "cell_type": "code",
   "execution_count": 21,
   "id": "4742b855-ea7b-48d2-954c-153ea2031396",
   "metadata": {},
   "outputs": [],
   "source": [
    "across_correlations1 = pd.DataFrame(index=twitter_ranked.columns, columns=survey_twitter_savy_ranked.columns, dtype=\"float\")\n",
    "\n",
    "\n",
    "#survey_tot_stub_ranked\n",
    "\n",
    "\n",
    "for var_twitter in twitter_ranked:\n",
    "    for var_survey in survey_twitter_savy_ranked:\n",
    "        correlation = twitter_ranked[var_twitter].corr(survey_twitter_savy_ranked[var_survey], method=\"kendall\")\n",
    "        across_correlations1.loc[var_twitter, var_survey] = correlation"
   ]
  },
  {
   "cell_type": "code",
   "execution_count": 22,
   "id": "4ad330ae-81bf-4ebb-bb7d-6166bf57bad4",
   "metadata": {},
   "outputs": [
    {
     "data": {
      "text/html": [
       "<div>\n",
       "<style scoped>\n",
       "    .dataframe tbody tr th:only-of-type {\n",
       "        vertical-align: middle;\n",
       "    }\n",
       "\n",
       "    .dataframe tbody tr th {\n",
       "        vertical-align: top;\n",
       "    }\n",
       "\n",
       "    .dataframe thead th {\n",
       "        text-align: right;\n",
       "    }\n",
       "</style>\n",
       "<table border=\"1\" class=\"dataframe\">\n",
       "  <thead>\n",
       "    <tr style=\"text-align: right;\">\n",
       "      <th></th>\n",
       "      <th>perc_negative</th>\n",
       "      <th>perc_neutral</th>\n",
       "      <th>perc_positive</th>\n",
       "    </tr>\n",
       "  </thead>\n",
       "  <tbody>\n",
       "    <tr>\n",
       "      <th>perc_negative</th>\n",
       "      <td>-0.105409</td>\n",
       "      <td>0.2</td>\n",
       "      <td>-0.4</td>\n",
       "    </tr>\n",
       "    <tr>\n",
       "      <th>perc_neutral</th>\n",
       "      <td>0.105409</td>\n",
       "      <td>-0.2</td>\n",
       "      <td>0.4</td>\n",
       "    </tr>\n",
       "    <tr>\n",
       "      <th>perc_positive</th>\n",
       "      <td>-0.105409</td>\n",
       "      <td>0.2</td>\n",
       "      <td>-0.4</td>\n",
       "    </tr>\n",
       "    <tr>\n",
       "      <th>share_of_voice</th>\n",
       "      <td>-0.316228</td>\n",
       "      <td>-0.2</td>\n",
       "      <td>0.0</td>\n",
       "    </tr>\n",
       "    <tr>\n",
       "      <th>retweets_mean</th>\n",
       "      <td>-0.737865</td>\n",
       "      <td>-0.6</td>\n",
       "      <td>0.8</td>\n",
       "    </tr>\n",
       "    <tr>\n",
       "      <th>replies_mean</th>\n",
       "      <td>-0.948683</td>\n",
       "      <td>-0.2</td>\n",
       "      <td>0.4</td>\n",
       "    </tr>\n",
       "    <tr>\n",
       "      <th>likes_mean</th>\n",
       "      <td>-0.527046</td>\n",
       "      <td>-0.8</td>\n",
       "      <td>0.6</td>\n",
       "    </tr>\n",
       "    <tr>\n",
       "      <th>quote_count_mean</th>\n",
       "      <td>-0.948683</td>\n",
       "      <td>-0.4</td>\n",
       "      <td>0.6</td>\n",
       "    </tr>\n",
       "  </tbody>\n",
       "</table>\n",
       "</div>"
      ],
      "text/plain": [
       "                  perc_negative  perc_neutral  perc_positive\n",
       "perc_negative         -0.105409           0.2           -0.4\n",
       "perc_neutral           0.105409          -0.2            0.4\n",
       "perc_positive         -0.105409           0.2           -0.4\n",
       "share_of_voice        -0.316228          -0.2            0.0\n",
       "retweets_mean         -0.737865          -0.6            0.8\n",
       "replies_mean          -0.948683          -0.2            0.4\n",
       "likes_mean            -0.527046          -0.8            0.6\n",
       "quote_count_mean      -0.948683          -0.4            0.6"
      ]
     },
     "execution_count": 22,
     "metadata": {},
     "output_type": "execute_result"
    }
   ],
   "source": [
    "across_correlations1"
   ]
  },
  {
   "cell_type": "code",
   "execution_count": 23,
   "id": "e2585dc5-12ce-4fae-a19d-f1e2cc585d62",
   "metadata": {},
   "outputs": [
    {
     "data": {
      "text/plain": [
       "<AxesSubplot: >"
      ]
     },
     "execution_count": 23,
     "metadata": {},
     "output_type": "execute_result"
    },
    {
     "data": {
      "image/png": "[encoded data removed]",
      "text/plain": [
       "<Figure size 640x480 with 2 Axes>"
      ]
     },
     "metadata": {},
     "output_type": "display_data"
    }
   ],
   "source": [
    "sns.heatmap(across_correlations1)"
   ]
  },
  {
   "cell_type": "code",
   "execution_count": 24,
   "id": "d1f6837d",
   "metadata": {},
   "outputs": [
    {
     "data": {
      "text/html": [
       "<div>\n",
       "<style scoped>\n",
       "    .dataframe tbody tr th:only-of-type {\n",
       "        vertical-align: middle;\n",
       "    }\n",
       "\n",
       "    .dataframe tbody tr th {\n",
       "        vertical-align: top;\n",
       "    }\n",
       "\n",
       "    .dataframe thead th {\n",
       "        text-align: right;\n",
       "    }\n",
       "</style>\n",
       "<table border=\"1\" class=\"dataframe\">\n",
       "  <thead>\n",
       "    <tr style=\"text-align: right;\">\n",
       "      <th></th>\n",
       "      <th>perc_negative</th>\n",
       "      <th>perc_neutral</th>\n",
       "      <th>perc_positive</th>\n",
       "    </tr>\n",
       "  </thead>\n",
       "  <tbody>\n",
       "    <tr>\n",
       "      <th>perc_negative</th>\n",
       "      <td>-0.6</td>\n",
       "      <td>0.4</td>\n",
       "      <td>-0.119523</td>\n",
       "    </tr>\n",
       "    <tr>\n",
       "      <th>perc_neutral</th>\n",
       "      <td>0.6</td>\n",
       "      <td>-0.4</td>\n",
       "      <td>0.119523</td>\n",
       "    </tr>\n",
       "    <tr>\n",
       "      <th>perc_positive</th>\n",
       "      <td>-0.6</td>\n",
       "      <td>0.4</td>\n",
       "      <td>-0.119523</td>\n",
       "    </tr>\n",
       "    <tr>\n",
       "      <th>share_of_voice</th>\n",
       "      <td>-1.0</td>\n",
       "      <td>0.0</td>\n",
       "      <td>0.358569</td>\n",
       "    </tr>\n",
       "    <tr>\n",
       "      <th>retweets_mean</th>\n",
       "      <td>-0.2</td>\n",
       "      <td>-0.8</td>\n",
       "      <td>0.597614</td>\n",
       "    </tr>\n",
       "    <tr>\n",
       "      <th>replies_mean</th>\n",
       "      <td>-0.2</td>\n",
       "      <td>-0.4</td>\n",
       "      <td>0.358569</td>\n",
       "    </tr>\n",
       "    <tr>\n",
       "      <th>likes_mean</th>\n",
       "      <td>-0.4</td>\n",
       "      <td>-0.6</td>\n",
       "      <td>0.597614</td>\n",
       "    </tr>\n",
       "    <tr>\n",
       "      <th>quote_count_mean</th>\n",
       "      <td>-0.4</td>\n",
       "      <td>-0.6</td>\n",
       "      <td>0.597614</td>\n",
       "    </tr>\n",
       "  </tbody>\n",
       "</table>\n",
       "</div>"
      ],
      "text/plain": [
       "                  perc_negative  perc_neutral  perc_positive\n",
       "perc_negative              -0.6           0.4      -0.119523\n",
       "perc_neutral                0.6          -0.4       0.119523\n",
       "perc_positive              -0.6           0.4      -0.119523\n",
       "share_of_voice             -1.0           0.0       0.358569\n",
       "retweets_mean              -0.2          -0.8       0.597614\n",
       "replies_mean               -0.2          -0.4       0.358569\n",
       "likes_mean                 -0.4          -0.6       0.597614\n",
       "quote_count_mean           -0.4          -0.6       0.597614"
      ]
     },
     "execution_count": 24,
     "metadata": {},
     "output_type": "execute_result"
    }
   ],
   "source": [
    "across_correlations2 = pd.DataFrame(index=twitter_ranked.columns, columns=survey_tot_stub_ranked.columns, dtype=\"float\")\n",
    "\n",
    "\n",
    "#survey_tot_stub_ranked\n",
    "\n",
    "\n",
    "for var_twitter in twitter_ranked:\n",
    "    for var_survey in survey_tot_stub_ranked:\n",
    "        correlation = twitter_ranked[var_twitter].corr(survey_tot_stub_ranked[var_survey], method=\"kendall\")\n",
    "        across_correlations2.loc[var_twitter, var_survey] = correlation\n",
    "        \n",
    "across_correlations2"
   ]
  },
  {
   "cell_type": "code",
   "execution_count": 25,
   "id": "f9c63900",
   "metadata": {},
   "outputs": [
    {
     "data": {
      "text/plain": [
       "<AxesSubplot: >"
      ]
     },
     "execution_count": 25,
     "metadata": {},
     "output_type": "execute_result"
    },
    {
     "data": {
      "image/png": "[encoded data removed]",
      "text/plain": [
       "<Figure size 640x480 with 2 Axes>"
      ]
     },
     "metadata": {},
     "output_type": "display_data"
    }
   ],
   "source": [
    "sns.heatmap(across_correlations2)"
   ]
  },
  {
   "cell_type": "code",
   "execution_count": 26,
   "id": "5497b645",
   "metadata": {},
   "outputs": [
    {
     "data": {
      "text/html": [
       "<div>\n",
       "<style scoped>\n",
       "    .dataframe tbody tr th:only-of-type {\n",
       "        vertical-align: middle;\n",
       "    }\n",
       "\n",
       "    .dataframe tbody tr th {\n",
       "        vertical-align: top;\n",
       "    }\n",
       "\n",
       "    .dataframe thead th {\n",
       "        text-align: right;\n",
       "    }\n",
       "</style>\n",
       "<table border=\"1\" class=\"dataframe\">\n",
       "  <thead>\n",
       "    <tr style=\"text-align: right;\">\n",
       "      <th></th>\n",
       "      <th>perc_negative</th>\n",
       "      <th>perc_neutral</th>\n",
       "      <th>perc_positive</th>\n",
       "    </tr>\n",
       "  </thead>\n",
       "  <tbody>\n",
       "    <tr>\n",
       "      <th>perc_negative</th>\n",
       "      <td>0.316228</td>\n",
       "      <td>0.527046</td>\n",
       "      <td>-0.503953</td>\n",
       "    </tr>\n",
       "    <tr>\n",
       "      <th>perc_neutral</th>\n",
       "      <td>0.200000</td>\n",
       "      <td>0.800000</td>\n",
       "      <td>-0.836660</td>\n",
       "    </tr>\n",
       "    <tr>\n",
       "      <th>perc_positive</th>\n",
       "      <td>0.000000</td>\n",
       "      <td>-1.000000</td>\n",
       "      <td>0.836660</td>\n",
       "    </tr>\n",
       "  </tbody>\n",
       "</table>\n",
       "</div>"
      ],
      "text/plain": [
       "               perc_negative  perc_neutral  perc_positive\n",
       "perc_negative       0.316228      0.527046      -0.503953\n",
       "perc_neutral        0.200000      0.800000      -0.836660\n",
       "perc_positive       0.000000     -1.000000       0.836660"
      ]
     },
     "execution_count": 26,
     "metadata": {},
     "output_type": "execute_result"
    }
   ],
   "source": [
    "across_correlations3 = pd.DataFrame(index=survey_twitter_savy_ranked.columns, columns=survey_tot_stub_ranked.columns, dtype=\"float\")\n",
    "\n",
    "\n",
    "#survey_tot_stub_ranked\n",
    "\n",
    "\n",
    "for var_sub in survey_twitter_savy_ranked:\n",
    "    for var_tot in survey_tot_stub_ranked:\n",
    "        correlation = survey_twitter_savy_ranked[var_sub].corr(survey_tot_stub_ranked[var_tot], method=\"kendall\")\n",
    "        across_correlations3.loc[var_sub, var_tot] = correlation\n",
    "        \n",
    "across_correlations3"
   ]
  },
  {
   "cell_type": "code",
   "execution_count": 27,
   "id": "ce258afe",
   "metadata": {},
   "outputs": [
    {
     "data": {
      "text/plain": [
       "<AxesSubplot: >"
      ]
     },
     "execution_count": 27,
     "metadata": {},
     "output_type": "execute_result"
    },
    {
     "data": {
      "image/png": "[encoded data removed]",
      "text/plain": [
       "<Figure size 640x480 with 2 Axes>"
      ]
     },
     "metadata": {},
     "output_type": "display_data"
    }
   ],
   "source": [
    "sns.heatmap(across_correlations3)"
   ]
  },
  {
   "cell_type": "code",
   "execution_count": null,
   "id": "6971f223",
   "metadata": {},
   "outputs": [],
   "source": []
  },
  {
   "cell_type": "code",
   "execution_count": null,
   "id": "01af9d88",
   "metadata": {},
   "outputs": [],
   "source": []
  },
  {
   "cell_type": "code",
   "execution_count": null,
   "id": "8d350f96",
   "metadata": {},
   "outputs": [],
   "source": []
  }
 ],
 "metadata": {
  "kernelspec": {
   "display_name": "Python 3 (ipykernel)",
   "language": "python",
   "name": "python3"
  },
  "language_info": {
   "codemirror_mode": {
    "name": "ipython",
    "version": 3
   },
   "file_extension": ".py",
   "mimetype": "text/x-python",
   "name": "python",
   "nbconvert_exporter": "python",
   "pygments_lexer": "ipython3",
   "version": "3.10.6"
  },
  "vscode": {
   "interpreter": {
    "hash": "58c21a2341242efc0953e9856321acb0a34bb47bd9f06e4bbe32894437b3eb6a"
   }
  }
 },
 "nbformat": 4,
 "nbformat_minor": 5
}
