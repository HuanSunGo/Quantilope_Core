{
 "cells": [
  {
   "cell_type": "markdown",
   "metadata": {},
   "source": [
    "# Kendall Tau's Correlation <br>\n",
    "A measure of [rank correlation](https://en.wikipedia.org/wiki/Kendall_rank_correlation_coefficient): the similarity of the orderings of the data when ranked by each of the quantities.\n",
    "A τ test is a non-parametric hypothesis test for statistical dependence based on the τ coefficient. <br>\n",
    "\n",
    "The definition of Kendall’s tau that is used is:\n",
    "\n",
    "$tau = (P - Q) / sqrt((P + Q + T) * (P + Q + U))$ <br>\n",
    "\n",
    "where P is the number of concordant pairs, Q the number of discordant pairs, T the number of ties only in x, and U the number of ties only in y. If a tie occurs for the same pair in both x and y, it is not added to either T or U.\n",
    "\n",
    "Implemention in Python: [link](https://docs.scipy.org/doc/scipy-0.15.1/reference/generated/scipy.stats.kendalltau.html)"
   ]
  },
  {
   "cell_type": "markdown",
   "metadata": {},
   "source": [
    "## Create Ranking Dataframe "
   ]
  },
  {
   "cell_type": "code",
   "execution_count": 4,
   "metadata": {},
   "outputs": [],
   "source": [
    "import pandas as pd\n",
    "import scipy.stats as stats\n"
   ]
  },
  {
   "cell_type": "code",
   "execution_count": 12,
   "metadata": {},
   "outputs": [
    {
     "data": {
      "text/html": [
       "<div>\n",
       "<style scoped>\n",
       "    .dataframe tbody tr th:only-of-type {\n",
       "        vertical-align: middle;\n",
       "    }\n",
       "\n",
       "    .dataframe tbody tr th {\n",
       "        vertical-align: top;\n",
       "    }\n",
       "\n",
       "    .dataframe thead th {\n",
       "        text-align: right;\n",
       "    }\n",
       "</style>\n",
       "<table border=\"1\" class=\"dataframe\">\n",
       "  <thead>\n",
       "    <tr style=\"text-align: right;\">\n",
       "      <th></th>\n",
       "      <th>brands</th>\n",
       "      <th>rank</th>\n",
       "      <th>pos_pct</th>\n",
       "    </tr>\n",
       "  </thead>\n",
       "  <tbody>\n",
       "    <tr>\n",
       "      <th>0</th>\n",
       "      <td>Nike</td>\n",
       "      <td>3</td>\n",
       "      <td>0.2093</td>\n",
       "    </tr>\n",
       "    <tr>\n",
       "      <th>1</th>\n",
       "      <td>Adidas</td>\n",
       "      <td>4</td>\n",
       "      <td>0.2023</td>\n",
       "    </tr>\n",
       "    <tr>\n",
       "      <th>2</th>\n",
       "      <td>Converse</td>\n",
       "      <td>2</td>\n",
       "      <td>0.2246</td>\n",
       "    </tr>\n",
       "    <tr>\n",
       "      <th>3</th>\n",
       "      <td>Reebok</td>\n",
       "      <td>5</td>\n",
       "      <td>0.1085</td>\n",
       "    </tr>\n",
       "    <tr>\n",
       "      <th>4</th>\n",
       "      <td>New balance</td>\n",
       "      <td>1</td>\n",
       "      <td>0.2391</td>\n",
       "    </tr>\n",
       "  </tbody>\n",
       "</table>\n",
       "</div>"
      ],
      "text/plain": [
       "        brands  rank  pos_pct\n",
       "0         Nike     3   0.2093\n",
       "1       Adidas     4   0.2023\n",
       "2     Converse     2   0.2246\n",
       "3       Reebok     5   0.1085\n",
       "4  New balance     1   0.2391"
      ]
     },
     "execution_count": 12,
     "metadata": {},
     "output_type": "execute_result"
    }
   ],
   "source": [
    "# Twitter most positive rank dataframe\n",
    "twitter_pos = {'brands': ['Nike', 'Adidas', 'Converse', 'Reebok','New balance'], \n",
    "                'rank': [3, 4, 2, 5, 1],\n",
    "                'pos_pct' : [0.2093, 0.2023, 0.2246, 0.1085, 0.2391]}\n",
    "twitter_pos = pd.DataFrame(data = twitter_pos)\n",
    "twitter_pos"
   ]
  },
  {
   "cell_type": "code",
   "execution_count": 11,
   "metadata": {},
   "outputs": [
    {
     "data": {
      "text/html": [
       "<div>\n",
       "<style scoped>\n",
       "    .dataframe tbody tr th:only-of-type {\n",
       "        vertical-align: middle;\n",
       "    }\n",
       "\n",
       "    .dataframe tbody tr th {\n",
       "        vertical-align: top;\n",
       "    }\n",
       "\n",
       "    .dataframe thead th {\n",
       "        text-align: right;\n",
       "    }\n",
       "</style>\n",
       "<table border=\"1\" class=\"dataframe\">\n",
       "  <thead>\n",
       "    <tr style=\"text-align: right;\">\n",
       "      <th></th>\n",
       "      <th>brands</th>\n",
       "      <th>rank</th>\n",
       "      <th>neg_pct</th>\n",
       "    </tr>\n",
       "  </thead>\n",
       "  <tbody>\n",
       "    <tr>\n",
       "      <th>0</th>\n",
       "      <td>Nike</td>\n",
       "      <td>2</td>\n",
       "      <td>0.1377</td>\n",
       "    </tr>\n",
       "    <tr>\n",
       "      <th>1</th>\n",
       "      <td>Adidas</td>\n",
       "      <td>3</td>\n",
       "      <td>0.1301</td>\n",
       "    </tr>\n",
       "    <tr>\n",
       "      <th>2</th>\n",
       "      <td>Converse</td>\n",
       "      <td>1</td>\n",
       "      <td>0.1833</td>\n",
       "    </tr>\n",
       "    <tr>\n",
       "      <th>3</th>\n",
       "      <td>Reebok</td>\n",
       "      <td>5</td>\n",
       "      <td>0.5280</td>\n",
       "    </tr>\n",
       "    <tr>\n",
       "      <th>4</th>\n",
       "      <td>New balance</td>\n",
       "      <td>4</td>\n",
       "      <td>0.1087</td>\n",
       "    </tr>\n",
       "  </tbody>\n",
       "</table>\n",
       "</div>"
      ],
      "text/plain": [
       "        brands  rank  neg_pct\n",
       "0         Nike     2   0.1377\n",
       "1       Adidas     3   0.1301\n",
       "2     Converse     1   0.1833\n",
       "3       Reebok     5   0.5280\n",
       "4  New balance     4   0.1087"
      ]
     },
     "execution_count": 11,
     "metadata": {},
     "output_type": "execute_result"
    }
   ],
   "source": [
    "# Twitter most negative rank dataframe\n",
    "twitter_neg = {'brands': ['Nike', 'Adidas', 'Converse', 'Reebok','New balance'], \n",
    "                'rank': [2, 3, 1, 5, 4],\n",
    "                'neg_pct' : [0.1377, 0.1301, 0.1833, 0.528, 0.1087]}\n",
    "twitter_neg = pd.DataFrame(data = twitter_neg)\n",
    "twitter_neg"
   ]
  },
  {
   "cell_type": "code",
   "execution_count": 10,
   "metadata": {},
   "outputs": [
    {
     "data": {
      "text/html": [
       "<div>\n",
       "<style scoped>\n",
       "    .dataframe tbody tr th:only-of-type {\n",
       "        vertical-align: middle;\n",
       "    }\n",
       "\n",
       "    .dataframe tbody tr th {\n",
       "        vertical-align: top;\n",
       "    }\n",
       "\n",
       "    .dataframe thead th {\n",
       "        text-align: right;\n",
       "    }\n",
       "</style>\n",
       "<table border=\"1\" class=\"dataframe\">\n",
       "  <thead>\n",
       "    <tr style=\"text-align: right;\">\n",
       "      <th></th>\n",
       "      <th>brands</th>\n",
       "      <th>rank</th>\n",
       "      <th>pos_pct</th>\n",
       "    </tr>\n",
       "  </thead>\n",
       "  <tbody>\n",
       "    <tr>\n",
       "      <th>0</th>\n",
       "      <td>Nike</td>\n",
       "      <td>2</td>\n",
       "      <td>0.1558</td>\n",
       "    </tr>\n",
       "    <tr>\n",
       "      <th>1</th>\n",
       "      <td>Converse</td>\n",
       "      <td>3</td>\n",
       "      <td>0.1176</td>\n",
       "    </tr>\n",
       "    <tr>\n",
       "      <th>2</th>\n",
       "      <td>New balance</td>\n",
       "      <td>1</td>\n",
       "      <td>0.2222</td>\n",
       "    </tr>\n",
       "  </tbody>\n",
       "</table>\n",
       "</div>"
      ],
      "text/plain": [
       "        brands  rank  pos_pct\n",
       "0         Nike     2   0.1558\n",
       "1     Converse     3   0.1176\n",
       "2  New balance     1   0.2222"
      ]
     },
     "execution_count": 10,
     "metadata": {},
     "output_type": "execute_result"
    }
   ],
   "source": [
    "# Reddit most positive rank dataframe\n",
    "reddit_pos = {'brands': ['Nike', 'Converse','New balance'], \n",
    "                'rank': [2, 3, 1],\n",
    "                'pos_pct' : [0.1558, 0.1176, 0.2222]}\n",
    "reddit_pos = pd.DataFrame(data = reddit_pos)\n",
    "reddit_pos"
   ]
  },
  {
   "cell_type": "code",
   "execution_count": 13,
   "metadata": {},
   "outputs": [
    {
     "data": {
      "text/html": [
       "<div>\n",
       "<style scoped>\n",
       "    .dataframe tbody tr th:only-of-type {\n",
       "        vertical-align: middle;\n",
       "    }\n",
       "\n",
       "    .dataframe tbody tr th {\n",
       "        vertical-align: top;\n",
       "    }\n",
       "\n",
       "    .dataframe thead th {\n",
       "        text-align: right;\n",
       "    }\n",
       "</style>\n",
       "<table border=\"1\" class=\"dataframe\">\n",
       "  <thead>\n",
       "    <tr style=\"text-align: right;\">\n",
       "      <th></th>\n",
       "      <th>brands</th>\n",
       "      <th>rank</th>\n",
       "      <th>pos_pct</th>\n",
       "    </tr>\n",
       "  </thead>\n",
       "  <tbody>\n",
       "    <tr>\n",
       "      <th>0</th>\n",
       "      <td>Nike</td>\n",
       "      <td>3</td>\n",
       "      <td>0.0519</td>\n",
       "    </tr>\n",
       "    <tr>\n",
       "      <th>1</th>\n",
       "      <td>Converse</td>\n",
       "      <td>2</td>\n",
       "      <td>0.1176</td>\n",
       "    </tr>\n",
       "    <tr>\n",
       "      <th>2</th>\n",
       "      <td>New balance</td>\n",
       "      <td>1</td>\n",
       "      <td>0.2222</td>\n",
       "    </tr>\n",
       "  </tbody>\n",
       "</table>\n",
       "</div>"
      ],
      "text/plain": [
       "        brands  rank  pos_pct\n",
       "0         Nike     3   0.0519\n",
       "1     Converse     2   0.1176\n",
       "2  New balance     1   0.2222"
      ]
     },
     "execution_count": 13,
     "metadata": {},
     "output_type": "execute_result"
    }
   ],
   "source": [
    "# Reddit most negative rank dataframe\n",
    "reddit_neg = {'brands': ['Nike', 'Converse','New balance'], \n",
    "                'rank': [3, 2, 1],\n",
    "                'pos_pct' : [0.0519, 0.1176, 0.2222]}\n",
    "reddit_neg = pd.DataFrame(data = reddit_neg)\n",
    "reddit_neg"
   ]
  },
  {
   "cell_type": "code",
   "execution_count": 2,
   "metadata": {},
   "outputs": [
    {
     "data": {
      "text/html": [
       "<div>\n",
       "<style scoped>\n",
       "    .dataframe tbody tr th:only-of-type {\n",
       "        vertical-align: middle;\n",
       "    }\n",
       "\n",
       "    .dataframe tbody tr th {\n",
       "        vertical-align: top;\n",
       "    }\n",
       "\n",
       "    .dataframe thead th {\n",
       "        text-align: right;\n",
       "    }\n",
       "</style>\n",
       "<table border=\"1\" class=\"dataframe\">\n",
       "  <thead>\n",
       "    <tr style=\"text-align: right;\">\n",
       "      <th></th>\n",
       "      <th>brands</th>\n",
       "      <th>rank</th>\n",
       "      <th>pos_pct</th>\n",
       "    </tr>\n",
       "  </thead>\n",
       "  <tbody>\n",
       "    <tr>\n",
       "      <th>0</th>\n",
       "      <td>Nike</td>\n",
       "      <td>1</td>\n",
       "      <td>0.6828</td>\n",
       "    </tr>\n",
       "    <tr>\n",
       "      <th>1</th>\n",
       "      <td>Adidas</td>\n",
       "      <td>2</td>\n",
       "      <td>0.6618</td>\n",
       "    </tr>\n",
       "    <tr>\n",
       "      <th>2</th>\n",
       "      <td>Converse</td>\n",
       "      <td>5</td>\n",
       "      <td>0.5593</td>\n",
       "    </tr>\n",
       "    <tr>\n",
       "      <th>3</th>\n",
       "      <td>Reebok</td>\n",
       "      <td>4</td>\n",
       "      <td>0.5773</td>\n",
       "    </tr>\n",
       "    <tr>\n",
       "      <th>4</th>\n",
       "      <td>New balance</td>\n",
       "      <td>3</td>\n",
       "      <td>0.6412</td>\n",
       "    </tr>\n",
       "  </tbody>\n",
       "</table>\n",
       "</div>"
      ],
      "text/plain": [
       "        brands  rank  pos_pct\n",
       "0         Nike     1   0.6828\n",
       "1       Adidas     2   0.6618\n",
       "2     Converse     5   0.5593\n",
       "3       Reebok     4   0.5773\n",
       "4  New balance     3   0.6412"
      ]
     },
     "execution_count": 2,
     "metadata": {},
     "output_type": "execute_result"
    }
   ],
   "source": [
    "# Survey data most positive rank dataframe\n",
    "survey_pos = {'brands': ['Nike', 'Adidas', 'Converse', 'Reebok','New balance'], \n",
    "                'rank': [1, 2, 5, 4, 3],\n",
    "                'pos_pct' : [0.6828, 0.6618, 0.5593, 0.5773, 0.6412]}\n",
    "survey_pos = pd.DataFrame(data = survey_pos)\n",
    "survey_pos"
   ]
  },
  {
   "cell_type": "code",
   "execution_count": 3,
   "metadata": {},
   "outputs": [
    {
     "data": {
      "text/html": [
       "<div>\n",
       "<style scoped>\n",
       "    .dataframe tbody tr th:only-of-type {\n",
       "        vertical-align: middle;\n",
       "    }\n",
       "\n",
       "    .dataframe tbody tr th {\n",
       "        vertical-align: top;\n",
       "    }\n",
       "\n",
       "    .dataframe thead th {\n",
       "        text-align: right;\n",
       "    }\n",
       "</style>\n",
       "<table border=\"1\" class=\"dataframe\">\n",
       "  <thead>\n",
       "    <tr style=\"text-align: right;\">\n",
       "      <th></th>\n",
       "      <th>brands</th>\n",
       "      <th>rank</th>\n",
       "      <th>pos_pct</th>\n",
       "    </tr>\n",
       "  </thead>\n",
       "  <tbody>\n",
       "    <tr>\n",
       "      <th>0</th>\n",
       "      <td>Nike</td>\n",
       "      <td>4</td>\n",
       "      <td>0.0848</td>\n",
       "    </tr>\n",
       "    <tr>\n",
       "      <th>1</th>\n",
       "      <td>Adidas</td>\n",
       "      <td>5</td>\n",
       "      <td>0.0793</td>\n",
       "    </tr>\n",
       "    <tr>\n",
       "      <th>2</th>\n",
       "      <td>Converse</td>\n",
       "      <td>2</td>\n",
       "      <td>0.1130</td>\n",
       "    </tr>\n",
       "    <tr>\n",
       "      <th>3</th>\n",
       "      <td>Reebok</td>\n",
       "      <td>1</td>\n",
       "      <td>0.1366</td>\n",
       "    </tr>\n",
       "    <tr>\n",
       "      <th>4</th>\n",
       "      <td>New balance</td>\n",
       "      <td>3</td>\n",
       "      <td>0.1029</td>\n",
       "    </tr>\n",
       "  </tbody>\n",
       "</table>\n",
       "</div>"
      ],
      "text/plain": [
       "        brands  rank  pos_pct\n",
       "0         Nike     4   0.0848\n",
       "1       Adidas     5   0.0793\n",
       "2     Converse     2   0.1130\n",
       "3       Reebok     1   0.1366\n",
       "4  New balance     3   0.1029"
      ]
     },
     "execution_count": 3,
     "metadata": {},
     "output_type": "execute_result"
    }
   ],
   "source": [
    "# Survey data most negative rank dataframe\n",
    "survey_neg = {'brands': ['Nike', 'Adidas', 'Converse', 'Reebok','New balance'], \n",
    "                'rank': [4, 5, 2, 1, 3],\n",
    "                'pos_pct' : [0.0848, 0.0793, 0.1130, 0.1366, 0.1029]}\n",
    "survey_neg = pd.DataFrame(data = survey_neg)\n",
    "survey_neg"
   ]
  },
  {
   "cell_type": "markdown",
   "metadata": {},
   "source": [
    "### Calculate Kendall's Tau Correlation"
   ]
  },
  {
   "cell_type": "code",
   "execution_count": 31,
   "metadata": {},
   "outputs": [
    {
     "name": "stdout",
     "output_type": "stream",
     "text": [
      "tau is 0.00, p value is 1.00\n"
     ]
    }
   ],
   "source": [
    "# calculate the Twitter and survey brand positive sentiment rank correlation\n",
    "x1 = twitter_pos['rank']\n",
    "x2 = survey_pos['rank']\n",
    "tau, p_value = stats.kendalltau(x1, x2)\n",
    "print(f'tau is {tau:.2f}, p value is {p_value:.2f}')"
   ]
  },
  {
   "cell_type": "code",
   "execution_count": 32,
   "metadata": {},
   "outputs": [
    {
     "name": "stdout",
     "output_type": "stream",
     "text": [
      "tau is -0.20, p value is 0.82\n"
     ]
    }
   ],
   "source": [
    "# calculate the Twitter and survey brand negative sentiment rank correlation\n",
    "x1 = twitter_neg['rank']\n",
    "x2 = survey_neg['rank']\n",
    "tau, p_value = stats.kendalltau(x1, x2)\n",
    "print(f'tau is {tau:.2f}, p value is {p_value:.2f}')"
   ]
  },
  {
   "cell_type": "code",
   "execution_count": 33,
   "metadata": {},
   "outputs": [
    {
     "name": "stdout",
     "output_type": "stream",
     "text": [
      "tau is 0.33, p value is 1.00\n"
     ]
    }
   ],
   "source": [
    "# calculate the Reddit and Survey brand positive sentiment rank correlation\n",
    "x1 = survey_pos[(survey_pos['brands'] == 'Nike') |\n",
    "            (survey_pos['brands'] == 'Converse') | \n",
    "            (survey_pos['brands'] == 'New balance')]['rank']\n",
    "x2 = reddit_pos['rank']\n",
    "tau, p_value = stats.kendalltau(x1, x2)\n",
    "print(f'tau is {tau:.2f}, p value is {p_value:.2f}')"
   ]
  },
  {
   "cell_type": "code",
   "execution_count": 34,
   "metadata": {},
   "outputs": [
    {
     "name": "stdout",
     "output_type": "stream",
     "text": [
      "tau is 0.33, p value is 1.00\n"
     ]
    }
   ],
   "source": [
    "# calculate the Reddit and Survey brand negative sentiment rank correlation\n",
    "x1 = survey_neg[(survey_neg['brands'] == 'Nike') |\n",
    "            (survey_neg['brands'] == 'Converse') | \n",
    "            (survey_neg['brands'] == 'New balance')]['rank']\n",
    "x2 = reddit_neg['rank']\n",
    "tau, p_value = stats.kendalltau(x1, x2)\n",
    "print(f'tau is {tau:.2f}, p value is {p_value:.2f}')"
   ]
  },
  {
   "cell_type": "markdown",
   "metadata": {},
   "source": [
    "__*Conclusion*__: <br>\n",
    "Taking 0.05 as the significance level, here we observe the `p value` all way more than 0.05, which means we cannot reject the H0. Definitely not ideal conclusion. "
   ]
  },
  {
   "cell_type": "markdown",
   "metadata": {},
   "source": [
    "# Spearman Rank Correlation <br>\n",
    "[Reference](https://pythonfordatascienceorg.wordpress.com/correlation-python/#correlation-kendalltau)"
   ]
  }
 ],
 "metadata": {
  "kernelspec": {
   "display_name": "Python 3.8.8 ('base')",
   "language": "python",
   "name": "python3"
  },
  "language_info": {
   "codemirror_mode": {
    "name": "ipython",
    "version": 3
   },
   "file_extension": ".py",
   "mimetype": "text/x-python",
   "name": "python",
   "nbconvert_exporter": "python",
   "pygments_lexer": "ipython3",
   "version": "3.8.8"
  },
  "vscode": {
   "interpreter": {
    "hash": "22f19ce86b3867e446285b3f1a72227a98aa5a90743b2ef78c9d35e67c033ac6"
   }
  }
 },
 "nbformat": 4,
 "nbformat_minor": 4
}
