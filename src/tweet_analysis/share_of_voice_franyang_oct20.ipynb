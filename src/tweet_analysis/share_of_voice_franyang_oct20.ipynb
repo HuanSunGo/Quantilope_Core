{
 "cells": [
  {
   "cell_type": "code",
   "execution_count": 77,
   "metadata": {},
   "outputs": [],
   "source": [
    "import pandas as pd\n",
    "import numpy as np\n",
    "\n",
    "import warnings\n",
    "warnings.filterwarnings(\"ignore\")\n",
    "from plotnine import *\n",
    "import tweepy\n",
    "import time\n",
    "from matplotlib import pyplot as plt\n",
    "import matplotlib"
   ]
  },
  {
   "cell_type": "code",
   "execution_count": 2,
   "metadata": {},
   "outputs": [],
   "source": [
    "df = pd.read_csv('shoe_type_franyang_oct20.csv')"
   ]
  },
  {
   "cell_type": "code",
   "execution_count": 3,
   "metadata": {},
   "outputs": [],
   "source": [
    "# Keyword 'Sneakers'\n",
    "df = df[df.type == 'Sneakers']"
   ]
  },
  {
   "cell_type": "code",
   "execution_count": 4,
   "metadata": {},
   "outputs": [
    {
     "data": {
      "text/plain": [
       "0       Privileged never paid over box price for sneakers\n",
       "1       Trying to have a peaceful evening and at the r...\n",
       "2       Drop sneakers at a job fair if you don’t want ...\n",
       "3       I hate the fact that Puma ain’t got no sneaker...\n",
       "4       @1_Bundles You know my lil buddies gone geek t...\n",
       "                              ...                        \n",
       "2755    @thadbrown7 @SharpFootball I’ll bet a pair of ...\n",
       "2756                    they got hyunjin doing sneakers 😭\n",
       "2757    Coming soon to the Tacoma Mall #Sneakers https...\n",
       "2758    Lol stumbled upon the perfect fit for Harry in...\n",
       "2759    #data #science #google &amp; #twitter #analyti...\n",
       "Name: text, Length: 2760, dtype: object"
      ]
     },
     "execution_count": 4,
     "metadata": {},
     "output_type": "execute_result"
    }
   ],
   "source": [
    "df['text']"
   ]
  },
  {
   "cell_type": "code",
   "execution_count": 5,
   "metadata": {},
   "outputs": [],
   "source": [
    "brands = ['Puma', 'Toms', 'Keds', 'Allbirds', 'Vans', 'Skechers', 'Converse',\n",
    "       'Reebok', 'Under Armour', 'New Balance', 'Adidas', 'Nike']"
   ]
  },
  {
   "cell_type": "code",
   "execution_count": 10,
   "metadata": {},
   "outputs": [
    {
     "name": "stdout",
     "output_type": "stream",
     "text": [
      "Puma:36\n",
      "Toms:24\n",
      "Keds:3\n",
      "Allbirds:4\n",
      "Vans:13\n",
      "Skechers:3\n",
      "Converse:15\n",
      "Reebok:31\n",
      "Under Armour:0\n",
      "New Balance:21\n",
      "Adidas:99\n",
      "Nike:266\n"
     ]
    }
   ],
   "source": [
    "for brand in brands:\n",
    "    print(brand + \":\" + str(df[df['text'].str.contains(brand, case = False, na = False)].shape[0]))"
   ]
  },
  {
   "cell_type": "code",
   "execution_count": 12,
   "metadata": {},
   "outputs": [
    {
     "data": {
      "text/html": [
       "<div>\n",
       "<style scoped>\n",
       "    .dataframe tbody tr th:only-of-type {\n",
       "        vertical-align: middle;\n",
       "    }\n",
       "\n",
       "    .dataframe tbody tr th {\n",
       "        vertical-align: top;\n",
       "    }\n",
       "\n",
       "    .dataframe thead th {\n",
       "        text-align: right;\n",
       "    }\n",
       "</style>\n",
       "<table border=\"1\" class=\"dataframe\">\n",
       "  <thead>\n",
       "    <tr style=\"text-align: right;\">\n",
       "      <th></th>\n",
       "      <th>Brand</th>\n",
       "      <th>Count</th>\n",
       "    </tr>\n",
       "  </thead>\n",
       "  <tbody>\n",
       "    <tr>\n",
       "      <th>0</th>\n",
       "      <td>Nike</td>\n",
       "      <td>266</td>\n",
       "    </tr>\n",
       "    <tr>\n",
       "      <th>1</th>\n",
       "      <td>Adidas</td>\n",
       "      <td>99</td>\n",
       "    </tr>\n",
       "    <tr>\n",
       "      <th>2</th>\n",
       "      <td>Puma</td>\n",
       "      <td>36</td>\n",
       "    </tr>\n",
       "    <tr>\n",
       "      <th>3</th>\n",
       "      <td>Reebok</td>\n",
       "      <td>31</td>\n",
       "    </tr>\n",
       "    <tr>\n",
       "      <th>4</th>\n",
       "      <td>Toms</td>\n",
       "      <td>24</td>\n",
       "    </tr>\n",
       "    <tr>\n",
       "      <th>5</th>\n",
       "      <td>New Balance</td>\n",
       "      <td>21</td>\n",
       "    </tr>\n",
       "    <tr>\n",
       "      <th>6</th>\n",
       "      <td>Converse</td>\n",
       "      <td>15</td>\n",
       "    </tr>\n",
       "    <tr>\n",
       "      <th>7</th>\n",
       "      <td>Vans</td>\n",
       "      <td>13</td>\n",
       "    </tr>\n",
       "    <tr>\n",
       "      <th>8</th>\n",
       "      <td>Allbirds</td>\n",
       "      <td>4</td>\n",
       "    </tr>\n",
       "    <tr>\n",
       "      <th>9</th>\n",
       "      <td>Keds</td>\n",
       "      <td>3</td>\n",
       "    </tr>\n",
       "    <tr>\n",
       "      <th>10</th>\n",
       "      <td>Skechers</td>\n",
       "      <td>3</td>\n",
       "    </tr>\n",
       "    <tr>\n",
       "      <th>11</th>\n",
       "      <td>Under Armour</td>\n",
       "      <td>0</td>\n",
       "    </tr>\n",
       "  </tbody>\n",
       "</table>\n",
       "</div>"
      ],
      "text/plain": [
       "           Brand  Count\n",
       "0           Nike    266\n",
       "1         Adidas     99\n",
       "2           Puma     36\n",
       "3         Reebok     31\n",
       "4           Toms     24\n",
       "5    New Balance     21\n",
       "6       Converse     15\n",
       "7           Vans     13\n",
       "8       Allbirds      4\n",
       "9           Keds      3\n",
       "10      Skechers      3\n",
       "11  Under Armour      0"
      ]
     },
     "execution_count": 12,
     "metadata": {},
     "output_type": "execute_result"
    }
   ],
   "source": [
    "L = []\n",
    "for brand in brands:\n",
    "    s = df[df['text'].str.contains(brand, case=False, na = False)].shape[0]\n",
    "    #print (s)\n",
    "    L.append({'Brand': brand, 'Count':s})\n",
    "\n",
    "count1 = pd.DataFrame(L, columns=['Brand','Count']).sort_values('Count', ascending = False).reset_index(drop = True)\n",
    "count1"
   ]
  },
  {
   "cell_type": "code",
   "execution_count": 23,
   "metadata": {},
   "outputs": [],
   "source": [
    "# top 5\n",
    "top5_1 = count1[:5]\n",
    "#others\n",
    "new_row = pd.DataFrame(data = {\n",
    "    'Brand' : ['others'],\n",
    "    'Count' : [count1['Count'][5:].sum()]\n",
    "})\n",
    "\n",
    "#combining top 5 with others\n",
    "top5_1 = pd.concat([top5_1, new_row])"
   ]
  },
  {
   "cell_type": "code",
   "execution_count": 28,
   "metadata": {},
   "outputs": [
    {
     "data": {
      "text/html": [
       "<div>\n",
       "<style scoped>\n",
       "    .dataframe tbody tr th:only-of-type {\n",
       "        vertical-align: middle;\n",
       "    }\n",
       "\n",
       "    .dataframe tbody tr th {\n",
       "        vertical-align: top;\n",
       "    }\n",
       "\n",
       "    .dataframe thead th {\n",
       "        text-align: right;\n",
       "    }\n",
       "</style>\n",
       "<table border=\"1\" class=\"dataframe\">\n",
       "  <thead>\n",
       "    <tr style=\"text-align: right;\">\n",
       "      <th></th>\n",
       "      <th>Brand</th>\n",
       "      <th>Count</th>\n",
       "    </tr>\n",
       "  </thead>\n",
       "  <tbody>\n",
       "    <tr>\n",
       "      <th>0</th>\n",
       "      <td>Nike</td>\n",
       "      <td>266</td>\n",
       "    </tr>\n",
       "    <tr>\n",
       "      <th>1</th>\n",
       "      <td>Adidas</td>\n",
       "      <td>99</td>\n",
       "    </tr>\n",
       "    <tr>\n",
       "      <th>2</th>\n",
       "      <td>Puma</td>\n",
       "      <td>36</td>\n",
       "    </tr>\n",
       "    <tr>\n",
       "      <th>3</th>\n",
       "      <td>Reebok</td>\n",
       "      <td>31</td>\n",
       "    </tr>\n",
       "    <tr>\n",
       "      <th>4</th>\n",
       "      <td>Toms</td>\n",
       "      <td>24</td>\n",
       "    </tr>\n",
       "    <tr>\n",
       "      <th>0</th>\n",
       "      <td>others</td>\n",
       "      <td>59</td>\n",
       "    </tr>\n",
       "  </tbody>\n",
       "</table>\n",
       "</div>"
      ],
      "text/plain": [
       "    Brand  Count\n",
       "0    Nike    266\n",
       "1  Adidas     99\n",
       "2    Puma     36\n",
       "3  Reebok     31\n",
       "4    Toms     24\n",
       "0  others     59"
      ]
     },
     "execution_count": 28,
     "metadata": {},
     "output_type": "execute_result"
    }
   ],
   "source": [
    "top5_1"
   ]
  },
  {
   "cell_type": "code",
   "execution_count": 65,
   "metadata": {},
   "outputs": [],
   "source": [
    "# Keyword 'shoes'\n",
    "df2 = pd.read_csv('keyword_shoes_oct20.csv',lineterminator='\\n')"
   ]
  },
  {
   "cell_type": "code",
   "execution_count": 66,
   "metadata": {},
   "outputs": [
    {
     "data": {
      "text/html": [
       "<div>\n",
       "<style scoped>\n",
       "    .dataframe tbody tr th:only-of-type {\n",
       "        vertical-align: middle;\n",
       "    }\n",
       "\n",
       "    .dataframe tbody tr th {\n",
       "        vertical-align: top;\n",
       "    }\n",
       "\n",
       "    .dataframe thead th {\n",
       "        text-align: right;\n",
       "    }\n",
       "</style>\n",
       "<table border=\"1\" class=\"dataframe\">\n",
       "  <thead>\n",
       "    <tr style=\"text-align: right;\">\n",
       "      <th></th>\n",
       "      <th>Brand</th>\n",
       "      <th>Count</th>\n",
       "    </tr>\n",
       "  </thead>\n",
       "  <tbody>\n",
       "    <tr>\n",
       "      <th>0</th>\n",
       "      <td>Nike</td>\n",
       "      <td>517</td>\n",
       "    </tr>\n",
       "    <tr>\n",
       "      <th>1</th>\n",
       "      <td>Adidas</td>\n",
       "      <td>183</td>\n",
       "    </tr>\n",
       "    <tr>\n",
       "      <th>2</th>\n",
       "      <td>Vans</td>\n",
       "      <td>94</td>\n",
       "    </tr>\n",
       "    <tr>\n",
       "      <th>3</th>\n",
       "      <td>Toms</td>\n",
       "      <td>67</td>\n",
       "    </tr>\n",
       "    <tr>\n",
       "      <th>4</th>\n",
       "      <td>Puma</td>\n",
       "      <td>60</td>\n",
       "    </tr>\n",
       "    <tr>\n",
       "      <th>5</th>\n",
       "      <td>New Balance</td>\n",
       "      <td>50</td>\n",
       "    </tr>\n",
       "    <tr>\n",
       "      <th>6</th>\n",
       "      <td>Reebok</td>\n",
       "      <td>46</td>\n",
       "    </tr>\n",
       "    <tr>\n",
       "      <th>7</th>\n",
       "      <td>Converse</td>\n",
       "      <td>43</td>\n",
       "    </tr>\n",
       "    <tr>\n",
       "      <th>8</th>\n",
       "      <td>Skechers</td>\n",
       "      <td>16</td>\n",
       "    </tr>\n",
       "    <tr>\n",
       "      <th>9</th>\n",
       "      <td>Allbirds</td>\n",
       "      <td>13</td>\n",
       "    </tr>\n",
       "    <tr>\n",
       "      <th>10</th>\n",
       "      <td>Keds</td>\n",
       "      <td>6</td>\n",
       "    </tr>\n",
       "    <tr>\n",
       "      <th>11</th>\n",
       "      <td>Under Armour</td>\n",
       "      <td>4</td>\n",
       "    </tr>\n",
       "  </tbody>\n",
       "</table>\n",
       "</div>"
      ],
      "text/plain": [
       "           Brand  Count\n",
       "0           Nike    517\n",
       "1         Adidas    183\n",
       "2           Vans     94\n",
       "3           Toms     67\n",
       "4           Puma     60\n",
       "5    New Balance     50\n",
       "6         Reebok     46\n",
       "7       Converse     43\n",
       "8       Skechers     16\n",
       "9       Allbirds     13\n",
       "10          Keds      6\n",
       "11  Under Armour      4"
      ]
     },
     "execution_count": 66,
     "metadata": {},
     "output_type": "execute_result"
    }
   ],
   "source": [
    "L = []\n",
    "for brand in brands:\n",
    "    s = df2[df2['text'].str.contains(brand, case=False, na = False)].shape[0]\n",
    "    #print (s)\n",
    "    L.append({'Brand': brand, 'Count':s})\n",
    "\n",
    "count2 = pd.DataFrame(L, columns=['Brand','Count']).sort_values('Count', ascending = False).reset_index(drop = True)\n",
    "count2"
   ]
  },
  {
   "cell_type": "code",
   "execution_count": 67,
   "metadata": {},
   "outputs": [],
   "source": [
    "# top 5\n",
    "top5_2 = count2[:5]\n",
    "#others\n",
    "new_row = pd.DataFrame(data = {\n",
    "    'Brand' : ['others'],\n",
    "    'Count' : [count2['Count'][5:].sum()]\n",
    "})\n",
    "\n",
    "#combining top 5 with others\n",
    "top5_2 = pd.concat([top5_2, new_row])"
   ]
  },
  {
   "cell_type": "code",
   "execution_count": 114,
   "metadata": {},
   "outputs": [
    {
     "data": {
      "image/png": "[encoded data removed]",
      "text/plain": [
       "<Figure size 1200x600 with 2 Axes>"
      ]
     },
     "metadata": {},
     "output_type": "display_data"
    }
   ],
   "source": [
    "color_set = ('#F9B183', '#AD9A85', '#F9D479',  '#EBE7CB', '#99D4C5', '#BF9590')\n",
    "fig, axes = plt.subplots(nrows = 1, ncols = 2, figsize = (12,6))\n",
    "top5_1.plot(kind = 'pie', y = 'Count', labels = top5_1['Brand'], ax = axes[0], legend=None, autopct='%1.1f%%',\n",
    "        shadow=True, startangle=90, colors = color_set)\n",
    "top5_2.plot(kind = 'pie', y = 'Count', labels = top5_2['Brand'], ax = axes[1], legend=None, autopct='%1.1f%%',\n",
    "        shadow=True, startangle=90, colors = color_set)\n",
    "axes[0].set_title('Share of Voice for Keyword \"Sneakers\" ')\n",
    "axes[1].set_title('Share of Voice for Keyword \"Shoes\" ')\n",
    "axes[0].set_ylabel('')\n",
    "axes[1].set_ylabel('')\n",
    "\n",
    "plt.show()"
   ]
  }
 ],
 "metadata": {
  "kernelspec": {
   "display_name": "Python 3 (ipykernel)",
   "language": "python",
   "name": "python3"
  },
  "language_info": {
   "codemirror_mode": {
    "name": "ipython",
    "version": 3
   },
   "file_extension": ".py",
   "mimetype": "text/x-python",
   "name": "python",
   "nbconvert_exporter": "python",
   "pygments_lexer": "ipython3",
   "version": "3.9.13"
  }
 },
 "nbformat": 4,
 "nbformat_minor": 4
}
