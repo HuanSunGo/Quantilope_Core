{
 "cells": [
  {
   "cell_type": "code",
   "execution_count": 3,
   "metadata": {},
   "outputs": [],
   "source": [
    "import pandas as pd\n",
    "import numpy as np\n",
    "\n",
    "import warnings\n",
    "warnings.filterwarnings(\"ignore\")\n",
    "#from plotnine import *\n",
    "import tweepy\n",
    "import time\n",
    "from matplotlib import pyplot as plt\n",
    "import matplotlib"
   ]
  },
  {
   "cell_type": "code",
   "execution_count": 11,
   "metadata": {},
   "outputs": [],
   "source": [
    "df = pd.read_csv('C:\\\\Users\\\\hs324\\\\OneDrive\\\\Desktop\\\\Class_Files\\\\06_2022Fall\\\\04_Practicum\\\\Quantilope_Core\\\\data\\\\brands_w_m3gender_region_nov10.csv')"
   ]
  },
  {
   "cell_type": "code",
   "execution_count": 12,
   "metadata": {},
   "outputs": [
    {
     "data": {
      "text/html": [
       "<div>\n",
       "<style scoped>\n",
       "    .dataframe tbody tr th:only-of-type {\n",
       "        vertical-align: middle;\n",
       "    }\n",
       "\n",
       "    .dataframe tbody tr th {\n",
       "        vertical-align: top;\n",
       "    }\n",
       "\n",
       "    .dataframe thead th {\n",
       "        text-align: right;\n",
       "    }\n",
       "</style>\n",
       "<table border=\"1\" class=\"dataframe\">\n",
       "  <thead>\n",
       "    <tr style=\"text-align: right;\">\n",
       "      <th></th>\n",
       "      <th>brand</th>\n",
       "      <th>Count</th>\n",
       "      <th>Perc</th>\n",
       "    </tr>\n",
       "  </thead>\n",
       "  <tbody>\n",
       "    <tr>\n",
       "      <th>5</th>\n",
       "      <td>Nike</td>\n",
       "      <td>8451</td>\n",
       "      <td>0.519646</td>\n",
       "    </tr>\n",
       "    <tr>\n",
       "      <th>0</th>\n",
       "      <td>Adidas</td>\n",
       "      <td>2483</td>\n",
       "      <td>0.152678</td>\n",
       "    </tr>\n",
       "    <tr>\n",
       "      <th>11</th>\n",
       "      <td>Vans</td>\n",
       "      <td>1470</td>\n",
       "      <td>0.090389</td>\n",
       "    </tr>\n",
       "    <tr>\n",
       "      <th>2</th>\n",
       "      <td>Converse</td>\n",
       "      <td>992</td>\n",
       "      <td>0.060997</td>\n",
       "    </tr>\n",
       "    <tr>\n",
       "      <th>6</th>\n",
       "      <td>Puma</td>\n",
       "      <td>780</td>\n",
       "      <td>0.047962</td>\n",
       "    </tr>\n",
       "    <tr>\n",
       "      <th>9</th>\n",
       "      <td>Toms</td>\n",
       "      <td>738</td>\n",
       "      <td>0.045379</td>\n",
       "    </tr>\n",
       "    <tr>\n",
       "      <th>4</th>\n",
       "      <td>New Balance</td>\n",
       "      <td>714</td>\n",
       "      <td>0.043903</td>\n",
       "    </tr>\n",
       "    <tr>\n",
       "      <th>7</th>\n",
       "      <td>Reebok</td>\n",
       "      <td>265</td>\n",
       "      <td>0.016295</td>\n",
       "    </tr>\n",
       "    <tr>\n",
       "      <th>10</th>\n",
       "      <td>Under Armour</td>\n",
       "      <td>183</td>\n",
       "      <td>0.011253</td>\n",
       "    </tr>\n",
       "    <tr>\n",
       "      <th>1</th>\n",
       "      <td>Allbirds</td>\n",
       "      <td>80</td>\n",
       "      <td>0.004919</td>\n",
       "    </tr>\n",
       "    <tr>\n",
       "      <th>8</th>\n",
       "      <td>Skechers</td>\n",
       "      <td>64</td>\n",
       "      <td>0.003935</td>\n",
       "    </tr>\n",
       "    <tr>\n",
       "      <th>3</th>\n",
       "      <td>Keds</td>\n",
       "      <td>43</td>\n",
       "      <td>0.002644</td>\n",
       "    </tr>\n",
       "  </tbody>\n",
       "</table>\n",
       "</div>"
      ],
      "text/plain": [
       "           brand  Count      Perc\n",
       "5           Nike   8451  0.519646\n",
       "0         Adidas   2483  0.152678\n",
       "11          Vans   1470  0.090389\n",
       "2       Converse    992  0.060997\n",
       "6           Puma    780  0.047962\n",
       "9           Toms    738  0.045379\n",
       "4    New Balance    714  0.043903\n",
       "7         Reebok    265  0.016295\n",
       "10  Under Armour    183  0.011253\n",
       "1       Allbirds     80  0.004919\n",
       "8       Skechers     64  0.003935\n",
       "3           Keds     43  0.002644"
      ]
     },
     "execution_count": 12,
     "metadata": {},
     "output_type": "execute_result"
    }
   ],
   "source": [
    "count1 = df.groupby('brand').size().reset_index().rename({0 : 'Count'}, axis = 1).sort_values('Count', ascending = False)\n",
    "count1['Perc'] = count1['Count'] / count1['Count'].sum()\n",
    "count1"
   ]
  },
  {
   "cell_type": "code",
   "execution_count": 13,
   "metadata": {},
   "outputs": [],
   "source": [
    "# top 5\n",
    "top5_1 = count1[:5]\n",
    "#others\n",
    "new_row = pd.DataFrame(data = {\n",
    "    'brand' : ['others'],\n",
    "    'Count' : [count1['Count'][5:].sum()]\n",
    "})\n",
    "\n",
    "#combining top 5 with others\n",
    "top5_1 = pd.concat([top5_1, new_row])"
   ]
  },
  {
   "cell_type": "code",
   "execution_count": 14,
   "metadata": {},
   "outputs": [
    {
     "data": {
      "text/html": [
       "<div>\n",
       "<style scoped>\n",
       "    .dataframe tbody tr th:only-of-type {\n",
       "        vertical-align: middle;\n",
       "    }\n",
       "\n",
       "    .dataframe tbody tr th {\n",
       "        vertical-align: top;\n",
       "    }\n",
       "\n",
       "    .dataframe thead th {\n",
       "        text-align: right;\n",
       "    }\n",
       "</style>\n",
       "<table border=\"1\" class=\"dataframe\">\n",
       "  <thead>\n",
       "    <tr style=\"text-align: right;\">\n",
       "      <th></th>\n",
       "      <th>brand</th>\n",
       "      <th>Count</th>\n",
       "      <th>Perc</th>\n",
       "    </tr>\n",
       "  </thead>\n",
       "  <tbody>\n",
       "    <tr>\n",
       "      <th>5</th>\n",
       "      <td>Nike</td>\n",
       "      <td>8451</td>\n",
       "      <td>0.519646</td>\n",
       "    </tr>\n",
       "    <tr>\n",
       "      <th>0</th>\n",
       "      <td>Adidas</td>\n",
       "      <td>2483</td>\n",
       "      <td>0.152678</td>\n",
       "    </tr>\n",
       "    <tr>\n",
       "      <th>11</th>\n",
       "      <td>Vans</td>\n",
       "      <td>1470</td>\n",
       "      <td>0.090389</td>\n",
       "    </tr>\n",
       "    <tr>\n",
       "      <th>2</th>\n",
       "      <td>Converse</td>\n",
       "      <td>992</td>\n",
       "      <td>0.060997</td>\n",
       "    </tr>\n",
       "    <tr>\n",
       "      <th>6</th>\n",
       "      <td>Puma</td>\n",
       "      <td>780</td>\n",
       "      <td>0.047962</td>\n",
       "    </tr>\n",
       "    <tr>\n",
       "      <th>0</th>\n",
       "      <td>others</td>\n",
       "      <td>2087</td>\n",
       "      <td>NaN</td>\n",
       "    </tr>\n",
       "  </tbody>\n",
       "</table>\n",
       "</div>"
      ],
      "text/plain": [
       "       brand  Count      Perc\n",
       "5       Nike   8451  0.519646\n",
       "0     Adidas   2483  0.152678\n",
       "11      Vans   1470  0.090389\n",
       "2   Converse    992  0.060997\n",
       "6       Puma    780  0.047962\n",
       "0     others   2087       NaN"
      ]
     },
     "execution_count": 14,
     "metadata": {},
     "output_type": "execute_result"
    }
   ],
   "source": [
    "top5_1"
   ]
  },
  {
   "cell_type": "code",
   "execution_count": 15,
   "metadata": {},
   "outputs": [
    {
     "name": "stdout",
     "output_type": "stream",
     "text": [
      "(16263, 21)\n",
      "(12905, 21)\n"
     ]
    }
   ],
   "source": [
    "# Major sneaker brands\n",
    "df2 = df[df['brand'].isin(['Nike', 'New Balance','Converse', 'Adidas', 'Reebok'])]\n",
    "print(df.shape)\n",
    "print(df2.shape)"
   ]
  },
  {
   "cell_type": "code",
   "execution_count": 18,
   "metadata": {},
   "outputs": [
    {
     "data": {
      "text/html": [
       "<div>\n",
       "<style scoped>\n",
       "    .dataframe tbody tr th:only-of-type {\n",
       "        vertical-align: middle;\n",
       "    }\n",
       "\n",
       "    .dataframe tbody tr th {\n",
       "        vertical-align: top;\n",
       "    }\n",
       "\n",
       "    .dataframe thead th {\n",
       "        text-align: right;\n",
       "    }\n",
       "</style>\n",
       "<table border=\"1\" class=\"dataframe\">\n",
       "  <thead>\n",
       "    <tr style=\"text-align: right;\">\n",
       "      <th></th>\n",
       "      <th>brand</th>\n",
       "      <th>Count</th>\n",
       "      <th>Perc</th>\n",
       "    </tr>\n",
       "  </thead>\n",
       "  <tbody>\n",
       "    <tr>\n",
       "      <th>3</th>\n",
       "      <td>Nike</td>\n",
       "      <td>8451</td>\n",
       "      <td>0.654862</td>\n",
       "    </tr>\n",
       "    <tr>\n",
       "      <th>0</th>\n",
       "      <td>Adidas</td>\n",
       "      <td>2483</td>\n",
       "      <td>0.192406</td>\n",
       "    </tr>\n",
       "    <tr>\n",
       "      <th>1</th>\n",
       "      <td>Converse</td>\n",
       "      <td>992</td>\n",
       "      <td>0.076869</td>\n",
       "    </tr>\n",
       "    <tr>\n",
       "      <th>2</th>\n",
       "      <td>New Balance</td>\n",
       "      <td>714</td>\n",
       "      <td>0.055327</td>\n",
       "    </tr>\n",
       "    <tr>\n",
       "      <th>4</th>\n",
       "      <td>Reebok</td>\n",
       "      <td>265</td>\n",
       "      <td>0.020535</td>\n",
       "    </tr>\n",
       "  </tbody>\n",
       "</table>\n",
       "</div>"
      ],
      "text/plain": [
       "         brand  Count      Perc\n",
       "3         Nike   8451  0.654862\n",
       "0       Adidas   2483  0.192406\n",
       "1     Converse    992  0.076869\n",
       "2  New Balance    714  0.055327\n",
       "4       Reebok    265  0.020535"
      ]
     },
     "execution_count": 18,
     "metadata": {},
     "output_type": "execute_result"
    }
   ],
   "source": [
    "count2 = df2.groupby('brand').size().reset_index().rename({0 : 'Count'}, axis = 1).sort_values('Count', ascending = False)\n",
    "count2['Perc'] = count2['Count'] / count2['Count'].sum()\n",
    "count2"
   ]
  },
  {
   "cell_type": "code",
   "execution_count": 19,
   "metadata": {},
   "outputs": [
    {
     "data": {
      "image/png": "[encoded data removed]",
      "text/plain": [
       "<Figure size 864x432 with 2 Axes>"
      ]
     },
     "metadata": {},
     "output_type": "display_data"
    }
   ],
   "source": [
    "color_set = ('#F9B183', '#AD9A85', '#F9D479',  '#EBE7CB', '#99D4C5', '#BF9590')\n",
    "fig, axes = plt.subplots(nrows = 1, ncols = 2, figsize = (12,6))\n",
    "top5_1.plot(kind = 'pie', y = 'Count', labels = top5_1['brand'], ax = axes[0], legend=None, autopct='%1.1f%%',\n",
    "        shadow=True, startangle=90, colors = color_set)\n",
    "count2.plot(kind = 'pie', y = 'Count', labels = count2['brand'], ax = axes[1], legend=None, autopct='%1.1f%%', pctdistance=0.95, \n",
    "        shadow=True, startangle=100, colors = color_set)\n",
    "axes[0].set_title('Share of Voice for all the shoe brands')\n",
    "axes[1].set_title('Share of Voice for 5 major sneaker brands')\n",
    "axes[0].set_ylabel('')\n",
    "axes[1].set_ylabel('')\n",
    "plt.show()"
   ]
  }
 ],
 "metadata": {
  "kernelspec": {
   "display_name": "Python 3.9.0 64-bit ('3.9.0')",
   "language": "python",
   "name": "python3"
  },
  "language_info": {
   "codemirror_mode": {
    "name": "ipython",
    "version": 3
   },
   "file_extension": ".py",
   "mimetype": "text/x-python",
   "name": "python",
   "nbconvert_exporter": "python",
   "pygments_lexer": "ipython3",
   "version": "3.9.0"
  },
  "vscode": {
   "interpreter": {
    "hash": "58c21a2341242efc0953e9856321acb0a34bb47bd9f06e4bbe32894437b3eb6a"
   }
  }
 },
 "nbformat": 4,
 "nbformat_minor": 4
}
