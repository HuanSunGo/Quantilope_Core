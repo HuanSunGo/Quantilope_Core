{
 "cells": [
  {
   "cell_type": "code",
   "execution_count": 1,
   "id": "d5a5e41d",
   "metadata": {},
   "outputs": [],
   "source": [
    "# https://towardsdatascience.com/scraping-reddit-data-1c0af3040768\n",
    "# Best methodology of retrieving reddit API would be via PRAW as indicated in the website above\n",
    "\n",
    "# Load secret keys from credentials.json\n",
    "import json\n",
    "import praw"
   ]
  },
  {
   "cell_type": "code",
   "execution_count": 2,
   "id": "f66b8f80",
   "metadata": {},
   "outputs": [],
   "source": [
    "# Retrieve reddit client with api key login and a follow up of data retrieval\n",
    "with open('./.credentials.json') as f:\n",
    "    params = json.load(f)\n",
    "reddit = praw.Reddit(client_id=str(params['client_id']),\n",
    "                     client_secret=str(params['api_key']),\n",
    "                     user_agent=str(params['user_agent']))\n"
   ]
  },
  {
   "cell_type": "code",
   "execution_count": 3,
   "id": "e74a215d",
   "metadata": {},
   "outputs": [
    {
     "name": "stdout",
     "output_type": "stream",
     "text": [
      "[D] Simple Questions Thread\n",
      "[D] Machine Learning - WAYR (What Are You Reading) - Week 140\n",
      "[R] Discovering Faster Matrix Multiplication Algorithms With Reinforcement Learning\n",
      "[R] Introduction to Diffusion Models in JAX\n",
      "[R] Announcing CROWDLAB: open-source tools for data labeled by multiple annotators\n",
      "[R] The Illustrated Stable Diffusion\n",
      "[R] Yet Another Derivation of Backpropagation in Matrix Form (this time using Adjoints)\n",
      "Time Complexity of Detach() in torch \"[R]\"\n",
      "[R] Google Colab alternative\n",
      "[R] Self-Programming Artificial Intelligence Using Code-Generating Language Models\n"
     ]
    }
   ],
   "source": [
    "\n",
    "# get 10 hot posts from the MachineLearning subreddit\n",
    "hot_posts = reddit.subreddit('MachineLearning').hot(limit=10)\n",
    "for post in hot_posts:\n",
    "    print(post.title)\n"
   ]
  },
  {
   "cell_type": "code",
   "execution_count": 4,
   "id": "703954a9",
   "metadata": {},
   "outputs": [
    {
     "name": "stdout",
     "output_type": "stream",
     "text": [
      "In 2015, Jimmy Carter had brain cancer. In 2019, he broke his hip. That same year, at age 95, he fell at home requiring 14 stitches. Despite his injuries, he showed up the next day, to help build houses for the Habitat for Humanity. Recently turning 98, President Carter is still an active volunteer.\n",
      "We don't need to know this much about each other\n",
      "A special relationship\n",
      "(OC) I created an example of my daily hallucinations.\n",
      "OPEC and Russia agree to cut oil production by 2 million barrels a day.\n",
      "I did not know that. Yikes.\n",
      "The heart & lung capacity & strength of trans women exceed those of cis women, even after years of hormone therapy, but they are lower than those of cis men. Total body fat was lower & skeletal muscle mass was higher among the trans women than among the cis women, but higher & lower than cis men.\n",
      "Wahbebbbbbbb....\n",
      "Christian Bale says green-screen movies like Thor are ‘monotony’ to film: \"Can you differentiate one day from the next? No. Absolutely not\"\n",
      "Worker accuses customer of not paying tab, customer proceeds to completely embarrass him\n"
     ]
    }
   ],
   "source": [
    "\n",
    "# get hottest posts from all subreddits\n",
    "hot_posts = reddit.subreddit('all').hot(limit=10)\n",
    "for post in hot_posts:\n",
    "    print(post.title)"
   ]
  },
  {
   "cell_type": "code",
   "execution_count": null,
   "id": "f3011e3f",
   "metadata": {},
   "outputs": [],
   "source": []
  }
 ],
 "metadata": {
  "kernelspec": {
   "display_name": "Python 3 (ipykernel)",
   "language": "python",
   "name": "python3"
  },
  "language_info": {
   "codemirror_mode": {
    "name": "ipython",
    "version": 3
   },
   "file_extension": ".py",
   "mimetype": "text/x-python",
   "name": "python",
   "nbconvert_exporter": "python",
   "pygments_lexer": "ipython3",
   "version": "3.9.7"
  }
 },
 "nbformat": 4,
 "nbformat_minor": 5
}
