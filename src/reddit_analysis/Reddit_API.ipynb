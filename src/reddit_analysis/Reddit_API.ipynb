{
 "cells": [
  {
   "cell_type": "code",
   "execution_count": 34,
   "id": "c4f108d9",
   "metadata": {},
   "outputs": [],
   "source": [
    "import pandas as pd \n",
    "import numpy as np \n",
    "import praw \n",
    "from psaw import PushshiftAPI \n",
    "import datetime as dt"
   ]
  },
  {
   "cell_type": "code",
   "execution_count": 21,
   "id": "60749e25",
   "metadata": {},
   "outputs": [],
   "source": [
    "# https://towardsdatascience.com/scraping-reddit-data-1c0af3040768\n",
    "# https://praw.readthedocs.io/en/latest/ \n",
    "# https://pypi.org/project/psaw/\n",
    "# Retrieve reddit client with api key login and a follow up of data retrieval \n",
    "# to use PSAW\n",
    "api = PushshiftAPI()\n",
    "reddit = praw.Reddit(client_id='jt4hWsKS8poo7txQtBXSAw',\n",
    "                     client_secret='CRteJYmAtXXSZNAPRqVcdMHQsAOlqQ',\n",
    "                     user_agent='Quantliop_data')"
   ]
  },
  {
   "cell_type": "markdown",
   "id": "346f4c1d",
   "metadata": {},
   "source": [
    "# NIKE"
   ]
  },
  {
   "cell_type": "code",
   "execution_count": 76,
   "id": "347eef21",
   "metadata": {},
   "outputs": [
    {
     "data": {
      "text/html": [
       "<div>\n",
       "<style scoped>\n",
       "    .dataframe tbody tr th:only-of-type {\n",
       "        vertical-align: middle;\n",
       "    }\n",
       "\n",
       "    .dataframe tbody tr th {\n",
       "        vertical-align: top;\n",
       "    }\n",
       "\n",
       "    .dataframe thead th {\n",
       "        text-align: right;\n",
       "    }\n",
       "</style>\n",
       "<table border=\"1\" class=\"dataframe\">\n",
       "  <thead>\n",
       "    <tr style=\"text-align: right;\">\n",
       "      <th></th>\n",
       "      <th>Title</th>\n",
       "      <th>Subreddit</th>\n",
       "      <th>ID</th>\n",
       "      <th>Score</th>\n",
       "      <th>Total Comments</th>\n",
       "      <th>Post URL</th>\n",
       "    </tr>\n",
       "  </thead>\n",
       "  <tbody>\n",
       "    <tr>\n",
       "      <th>0</th>\n",
       "      <td>\"God's Message Today: You Are A Really Great P...</td>\n",
       "      <td>Nike</td>\n",
       "      <td>xrrd67</td>\n",
       "      <td>1</td>\n",
       "      <td>0</td>\n",
       "      <td>https://youtube.com/watch?v=gaxx8OlA66w&amp;amp;fe...</td>\n",
       "    </tr>\n",
       "    <tr>\n",
       "      <th>1</th>\n",
       "      <td>Can I buy shoes as a gift with employee bonus?</td>\n",
       "      <td>Nike</td>\n",
       "      <td>xrqp72</td>\n",
       "      <td>1</td>\n",
       "      <td>0</td>\n",
       "      <td>https://www.reddit.com/r/Nike/comments/xrqp72/...</td>\n",
       "    </tr>\n",
       "    <tr>\n",
       "      <th>2</th>\n",
       "      <td>need matching shoe laces need help thx</td>\n",
       "      <td>Nike</td>\n",
       "      <td>xrqgn0</td>\n",
       "      <td>1</td>\n",
       "      <td>0</td>\n",
       "      <td>https://i.redd.it/6sqm3oyevwq91.jpg</td>\n",
       "    </tr>\n",
       "    <tr>\n",
       "      <th>3</th>\n",
       "      <td>Cop or Nah- $120 US at Foot Locker seems like ...</td>\n",
       "      <td>Nike</td>\n",
       "      <td>xrqbov</td>\n",
       "      <td>1</td>\n",
       "      <td>0</td>\n",
       "      <td>https://i.redd.it/bw1sp463uwq91.jpg</td>\n",
       "    </tr>\n",
       "    <tr>\n",
       "      <th>4</th>\n",
       "      <td>Cop or Nah? $120 US at foot locker</td>\n",
       "      <td>Nike</td>\n",
       "      <td>xrq8ff</td>\n",
       "      <td>1</td>\n",
       "      <td>0</td>\n",
       "      <td>https://i.redd.it/mlfpachyswq91.jpg</td>\n",
       "    </tr>\n",
       "    <tr>\n",
       "      <th>...</th>\n",
       "      <td>...</td>\n",
       "      <td>...</td>\n",
       "      <td>...</td>\n",
       "      <td>...</td>\n",
       "      <td>...</td>\n",
       "      <td>...</td>\n",
       "    </tr>\n",
       "    <tr>\n",
       "      <th>2220</th>\n",
       "      <td>Hey guys, can the air zoom pockets in Nike pop...</td>\n",
       "      <td>Nike</td>\n",
       "      <td>wd9mqn</td>\n",
       "      <td>1</td>\n",
       "      <td>0</td>\n",
       "      <td>/r/RunningShoeGeeks/comments/wd9a4i/hey_guys_c...</td>\n",
       "    </tr>\n",
       "    <tr>\n",
       "      <th>2221</th>\n",
       "      <td>Need help identifying these shoes I like…</td>\n",
       "      <td>Nike</td>\n",
       "      <td>wd8t3u</td>\n",
       "      <td>1</td>\n",
       "      <td>0</td>\n",
       "      <td>https://i.redd.it/cwlocer3b1f91.jpg</td>\n",
       "    </tr>\n",
       "    <tr>\n",
       "      <th>2222</th>\n",
       "      <td>Does anyone know what shoe this is? Thanks!</td>\n",
       "      <td>Nike</td>\n",
       "      <td>wd8nr3</td>\n",
       "      <td>1</td>\n",
       "      <td>0</td>\n",
       "      <td>https://i.redd.it/wyvntifp91f91.jpg</td>\n",
       "    </tr>\n",
       "    <tr>\n",
       "      <th>2223</th>\n",
       "      <td>Pick your poison ig @nyc_kicks</td>\n",
       "      <td>Nike</td>\n",
       "      <td>wd8c2d</td>\n",
       "      <td>1</td>\n",
       "      <td>1</td>\n",
       "      <td>https://www.reddit.com/gallery/wd8c2d</td>\n",
       "    </tr>\n",
       "    <tr>\n",
       "      <th>2224</th>\n",
       "      <td>I really liked the Huarache sandals</td>\n",
       "      <td>Nike</td>\n",
       "      <td>wd8b3f</td>\n",
       "      <td>1</td>\n",
       "      <td>0</td>\n",
       "      <td>https://www.reddit.com/r/Nike/comments/wd8b3f/...</td>\n",
       "    </tr>\n",
       "  </tbody>\n",
       "</table>\n",
       "<p>2225 rows × 6 columns</p>\n",
       "</div>"
      ],
      "text/plain": [
       "                                                  Title Subreddit      ID  \\\n",
       "0     \"God's Message Today: You Are A Really Great P...      Nike  xrrd67   \n",
       "1        Can I buy shoes as a gift with employee bonus?      Nike  xrqp72   \n",
       "2                need matching shoe laces need help thx      Nike  xrqgn0   \n",
       "3     Cop or Nah- $120 US at Foot Locker seems like ...      Nike  xrqbov   \n",
       "4                    Cop or Nah? $120 US at foot locker      Nike  xrq8ff   \n",
       "...                                                 ...       ...     ...   \n",
       "2220  Hey guys, can the air zoom pockets in Nike pop...      Nike  wd9mqn   \n",
       "2221          Need help identifying these shoes I like…      Nike  wd8t3u   \n",
       "2222        Does anyone know what shoe this is? Thanks!      Nike  wd8nr3   \n",
       "2223                     Pick your poison ig @nyc_kicks      Nike  wd8c2d   \n",
       "2224                I really liked the Huarache sandals      Nike  wd8b3f   \n",
       "\n",
       "      Score  Total Comments                                           Post URL  \n",
       "0         1               0  https://youtube.com/watch?v=gaxx8OlA66w&amp;fe...  \n",
       "1         1               0  https://www.reddit.com/r/Nike/comments/xrqp72/...  \n",
       "2         1               0                https://i.redd.it/6sqm3oyevwq91.jpg  \n",
       "3         1               0                https://i.redd.it/bw1sp463uwq91.jpg  \n",
       "4         1               0                https://i.redd.it/mlfpachyswq91.jpg  \n",
       "...     ...             ...                                                ...  \n",
       "2220      1               0  /r/RunningShoeGeeks/comments/wd9a4i/hey_guys_c...  \n",
       "2221      1               0                https://i.redd.it/cwlocer3b1f91.jpg  \n",
       "2222      1               0                https://i.redd.it/wyvntifp91f91.jpg  \n",
       "2223      1               1              https://www.reddit.com/gallery/wd8c2d  \n",
       "2224      1               0  https://www.reddit.com/r/Nike/comments/wd8b3f/...  \n",
       "\n",
       "[2225 rows x 6 columns]"
      ]
     },
     "execution_count": 76,
     "metadata": {},
     "output_type": "execute_result"
    }
   ],
   "source": [
    "import datetime as dt\n",
    "\n",
    "start_epoch=int(dt.datetime(2022, 8, 1).timestamp())\n",
    "after_epoch = int(dt.datetime(2022, 9, 30).timestamp())\n",
    "Nike_sub = api.search_submissions(after=start_epoch,\n",
    "                            before= after_epoch, \n",
    "                            subreddit='Nike',\n",
    "                            filter=['url', 'title', 'subreddit','id','score','num_comments']) \n",
    "sub_dict = {\"Title\": [], \"Subreddit\": [],\n",
    "              \"ID\": [], \"Score\": [],\n",
    "              \"Total Comments\": [], \"Post URL\": []\n",
    "              }   \n",
    "for post in Nike_sub:\n",
    "    # Title of each post\n",
    "    sub_dict[\"Title\"].append(post.title)  \n",
    "    \n",
    "    # subreddit\n",
    "    sub_dict[\"Subreddit\"].append(post.subreddit)\n",
    "     \n",
    "    # Unique ID of each post\n",
    "    sub_dict[\"ID\"].append(post.id)\n",
    "     \n",
    "    # The score of a post\n",
    "    sub_dict[\"Score\"].append(post.score)\n",
    "     \n",
    "    # Total number of comments inside the post\n",
    "    sub_dict[\"Total Comments\"].append(post.num_comments)\n",
    "     \n",
    "    # URL of each post\n",
    "    sub_dict[\"Post URL\"].append(post.url) \n",
    "\n",
    "\n",
    "top_posts = pd.DataFrame(sub_dict) \n",
    "top_posts"
   ]
  },
  {
   "cell_type": "markdown",
   "id": "78a19b48",
   "metadata": {},
   "source": [
    "# Adidas"
   ]
  },
  {
   "cell_type": "code",
   "execution_count": 78,
   "id": "bc999d2d",
   "metadata": {},
   "outputs": [
    {
     "data": {
      "text/plain": [
       "4279"
      ]
     },
     "execution_count": 78,
     "metadata": {},
     "output_type": "execute_result"
    }
   ],
   "source": [
    "Adidas = api.search_submissions(after=start_epoch, \n",
    "                                before= after_epoch,\n",
    "                            subreddit='Adidas',\n",
    "                            filter=['url', 'title', 'subreddit','id','score','num_comments'])  \n",
    "for i in Adidas:\n",
    "    # Title of each post\n",
    "    sub_dict[\"Title\"].append(i.title)  \n",
    "    \n",
    "    # subreddit\n",
    "    sub_dict[\"Subreddit\"].append(i.subreddit)\n",
    "     \n",
    "    # Unique ID of each post\n",
    "    sub_dict[\"ID\"].append(i.id)\n",
    "     \n",
    "    # The score of a post\n",
    "    sub_dict[\"Score\"].append(i.score)\n",
    "     \n",
    "    # Total number of comments inside the post\n",
    "    sub_dict[\"Total Comments\"].append(i.num_comments)\n",
    "     \n",
    "    # URL of each post\n",
    "    sub_dict[\"Post URL\"].append(i.url) \n",
    "\n",
    "\n",
    "top_posts = pd.DataFrame(sub_dict) \n",
    "len(top_posts)"
   ]
  },
  {
   "cell_type": "code",
   "execution_count": 79,
   "id": "303cc5ae",
   "metadata": {},
   "outputs": [
    {
     "data": {
      "text/plain": [
       "5008"
      ]
     },
     "execution_count": 79,
     "metadata": {},
     "output_type": "execute_result"
    }
   ],
   "source": [
    "Converse = api.search_submissions(after=start_epoch, \n",
    "                                  before= after_epoch,\n",
    "                            subreddit='Converse',\n",
    "                            filter=['url', 'title', 'subreddit','id','score','num_comments'])  \n",
    "for i in Converse:\n",
    "    # Title of each post\n",
    "    sub_dict[\"Title\"].append(i.title)  \n",
    "    \n",
    "    # subreddit\n",
    "    sub_dict[\"Subreddit\"].append(i.subreddit)\n",
    "     \n",
    "    # Unique ID of each post\n",
    "    sub_dict[\"ID\"].append(i.id)\n",
    "     \n",
    "    # The score of a post\n",
    "    sub_dict[\"Score\"].append(i.score)\n",
    "     \n",
    "    # Total number of comments inside the post\n",
    "    sub_dict[\"Total Comments\"].append(i.num_comments)\n",
    "     \n",
    "    # URL of each post\n",
    "    sub_dict[\"Post URL\"].append(i.url) \n",
    "\n",
    "\n",
    "top_posts = pd.DataFrame(sub_dict) \n",
    "len(top_posts)"
   ]
  },
  {
   "cell_type": "code",
   "execution_count": 80,
   "id": "1c4bf9cc",
   "metadata": {},
   "outputs": [
    {
     "data": {
      "text/plain": [
       "5079"
      ]
     },
     "execution_count": 80,
     "metadata": {},
     "output_type": "execute_result"
    }
   ],
   "source": [
    "Reebok = api.search_submissions(after=start_epoch, \n",
    "                                before= after_epoch,\n",
    "                            subreddit='Reebok',\n",
    "                            filter=['url', 'title', 'subreddit','id','score','num_comments'])  \n",
    "for i in Reebok:\n",
    "    # Title of each post\n",
    "    sub_dict[\"Title\"].append(i.title)  \n",
    "    \n",
    "    # subreddit\n",
    "    sub_dict[\"Subreddit\"].append(i.subreddit)\n",
    "     \n",
    "    # Unique ID of each post\n",
    "    sub_dict[\"ID\"].append(i.id)\n",
    "     \n",
    "    # The score of a post\n",
    "    sub_dict[\"Score\"].append(i.score)\n",
    "     \n",
    "    # Total number of comments inside the post\n",
    "    sub_dict[\"Total Comments\"].append(i.num_comments)\n",
    "     \n",
    "    # URL of each post\n",
    "    sub_dict[\"Post URL\"].append(i.url) \n",
    "\n",
    "\n",
    "top_posts = pd.DataFrame(sub_dict) \n",
    "len(top_posts)"
   ]
  },
  {
   "cell_type": "code",
   "execution_count": 84,
   "id": "d01279a0",
   "metadata": {},
   "outputs": [],
   "source": [
    "top_posts.to_csv(\"Top Posts.csv\", index=True)"
   ]
  },
  {
   "cell_type": "code",
   "execution_count": 85,
   "id": "850541eb",
   "metadata": {},
   "outputs": [
    {
     "data": {
      "text/plain": [
       "[2225, 2054, 729, 71]"
      ]
     },
     "execution_count": 85,
     "metadata": {},
     "output_type": "execute_result"
    }
   ],
   "source": [
    "nick_num = 0  \n",
    "adidas_num = 0 \n",
    "converse_num = 0 \n",
    "Reebok_num = 0\n",
    "for i in top_posts.loc[:,\"Subreddit\"]: \n",
    "    if i == \"Nike\": \n",
    "        nick_num += 1  \n",
    "    elif i == \"adidas\": \n",
    "        adidas_num += 1 \n",
    "    elif i == \"Converse\": \n",
    "        converse_num += 1 \n",
    "    else: \n",
    "        Reebok_num += 1\n",
    "n_of_reddit = [nick_num,adidas_num,converse_num,Reebok_num] \n",
    "n_of_reddit"
   ]
  },
  {
   "cell_type": "code",
   "execution_count": null,
   "id": "d2b9fb89",
   "metadata": {},
   "outputs": [],
   "source": []
  },
  {
   "cell_type": "code",
   "execution_count": null,
   "id": "0bdfc670",
   "metadata": {},
   "outputs": [],
   "source": []
  }
 ],
 "metadata": {
  "kernelspec": {
   "display_name": "Python 3",
   "language": "python",
   "name": "python3"
  },
  "language_info": {
   "codemirror_mode": {
    "name": "ipython",
    "version": 3
   },
   "file_extension": ".py",
   "mimetype": "text/x-python",
   "name": "python",
   "nbconvert_exporter": "python",
   "pygments_lexer": "ipython3",
   "version": "3.8.8"
  }
 },
 "nbformat": 4,
 "nbformat_minor": 5
}
